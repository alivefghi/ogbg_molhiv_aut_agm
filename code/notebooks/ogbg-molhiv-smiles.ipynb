{
 "cells": [
  {
   "cell_type": "markdown",
   "metadata": {
    "id": "qmna4LA5mD78",
    "pycharm": {
     "name": "#%% md\n"
    }
   },
   "source": [
    "# ogbg-molhiv-smiles\n",
    "\n",
    "This notebook try to convert the `ogbg-molhiv` to the `smiles` formate of the graphs.\n",
    "\n",
    "Let's make it clear what is `smiles` and what is `ogbg-molhiv`.\n",
    "- `ogbg-molhiv`: It is a molecular graph dataset which is standardized for benchmarking the results on the graph formate of the molecular data.\n",
    "- `smiles`: It is the unique string representation of the molecules.\n",
    "\n",
    "Also, to be on the same page, our goal on this project is to do the classification task on the graph representation of the moleculs."
   ]
  },
  {
   "cell_type": "markdown",
   "metadata": {},
   "source": [
    "## Step 1: Download and Load the dataset\n",
    "\n",
    "Using `PygGraphPropPredDataset` class to download the dataset"
   ]
  },
  {
   "cell_type": "code",
   "execution_count": 13,
   "metadata": {
    "colab": {
     "base_uri": "https://localhost:8080/"
    },
    "executionInfo": {
     "elapsed": 14976,
     "status": "ok",
     "timestamp": 1702413926672,
     "user": {
      "displayName": "Mahsa Saadat",
      "userId": "12107327812096634515"
     },
     "user_tz": -210
    },
    "id": "bhO2FxiEmEW6",
    "outputId": "810c84be-87d3-482e-d2e2-0d53f8e41778",
    "pycharm": {
     "name": "#%%\n"
    }
   },
   "outputs": [],
   "source": [
    "from ogb.graphproppred import GraphPropPredDataset, PygGraphPropPredDataset\n",
    "\n",
    "dataset_name = 'ogbg-molhiv'\n",
    "dataset = PygGraphPropPredDataset(name=dataset_name, root='../dataset')"
   ]
  },
  {
   "cell_type": "markdown",
   "metadata": {},
   "source": [
    "### 1.1: Check Dataset Info\n",
    "Check basic dataset information using `PyG`"
   ]
  },
  {
   "cell_type": "code",
   "execution_count": 14,
   "metadata": {},
   "outputs": [
    {
     "name": "stdout",
     "output_type": "stream",
     "text": [
      "len(dataset): 41127 <- number of graphs\n",
      "dataset.num_classes: 2 <- number of labels for classes\n",
      "dataset.num_node_features: 9 <- number of features for each node of graphs\n",
      "dataset.num_edge_features: 3 <- number of features for each edge of graphs\n"
     ]
    }
   ],
   "source": [
    "print(f\"len(dataset): {len(dataset)} <- number of graphs\")\n",
    "print(f\"dataset.num_classes: {dataset.num_classes} <- number of labels for classes\")\n",
    "print(\n",
    "    f\"dataset.num_node_features: {dataset.num_node_features} <- number of features for each node of graphs\"\n",
    ")\n",
    "print(\n",
    "    f\"dataset.num_edge_features: {dataset.num_edge_features} <- number of features for each edge of graphs\"\n",
    ")"
   ]
  },
  {
   "cell_type": "markdown",
   "metadata": {},
   "source": [
    "### 1.2 Check Graph Info\n",
    "Check basic graph information using `PyG`"
   ]
  },
  {
   "cell_type": "code",
   "execution_count": 15,
   "metadata": {},
   "outputs": [
    {
     "name": "stdout",
     "output_type": "stream",
     "text": [
      "+--------------------------+----------------------------------------------------------------------------------+\n",
      "| Property                 | Value                                                                            |\n",
      "+==========================+==================================================================================+\n",
      "| Graph #                  | 0                                                                                |\n",
      "+--------------------------+----------------------------------------------------------------------------------+\n",
      "| Graph Object             | Data(edge_index=[2, 40], edge_attr=[40, 3], x=[19, 9], y=[1, 1], num_nodes=19)   |\n",
      "+--------------------------+----------------------------------------------------------------------------------+\n",
      "+--------------------------+----------------------------------------------------------------------------------+\n",
      "| graph.num_nodes          | 19                                                                               |\n",
      "+--------------------------+----------------------------------------------------------------------------------+\n",
      "| graph.num_edges          | 40                                                                               |\n",
      "+--------------------------+----------------------------------------------------------------------------------+\n",
      "| graph.has_isolated_nodes | False                                                                            |\n",
      "+--------------------------+----------------------------------------------------------------------------------+\n",
      "| graph.has_self_loops     | False                                                                            |\n",
      "+--------------------------+----------------------------------------------------------------------------------+\n",
      "| graph.is_directed        | False                                                                            |\n",
      "+--------------------------+----------------------------------------------------------------------------------+\n",
      "| graph.x.shape            | torch.Size([19, 9])                                                              |\n",
      "+--------------------------+----------------------------------------------------------------------------------+\n",
      "| graph.x                  | tensor([[ 5,  0,  4,  5,  3,  0,  2,  0,  0],                                    |\n",
      "|                          |         [ 5,  0,  4,  5,  2,  0,  2,  0,  0],                                    |\n",
      "|                          |         [ 5,  0,  3,  5,  0,  0,  1,  0,  1],                                    |\n",
      "|                          |         [ 7,  0,  2,  6,  0,  0,  1,  0,  1],                                    |\n",
      "|                          |         [28,  0,  4,  2,  0,  0,  5,  0,  1],                                    |\n",
      "|                          |         [ 7,  0,  2,  6,  0,  0,  1,  0,  1],                                    |\n",
      "|                          |         [ 5,  0,  3,  5,  0,  0,  1,  0,  1],                                    |\n",
      "|                          |         [ 5,  0,  4,  5,  2,  0,  2,  0,  0],                                    |\n",
      "|                          |         [ 5,  0,  4,  5,  3,  0,  2,  0,  0],                                    |\n",
      "|                          |         [ 5,  0,  4,  5,  2,  0,  2,  0,  1],                                    |\n",
      "|                          |         [ 7,  0,  2,  6,  0,  0,  1,  0,  1],                                    |\n",
      "|                          |         [ 5,  0,  3,  5,  0,  0,  1,  0,  1],                                    |\n",
      "|                          |         [ 5,  0,  4,  5,  2,  0,  2,  0,  0],                                    |\n",
      "|                          |         [ 5,  0,  4,  5,  3,  0,  2,  0,  0],                                    |\n",
      "|                          |         [ 5,  0,  4,  5,  2,  0,  2,  0,  1],                                    |\n",
      "|                          |         [ 5,  0,  3,  5,  0,  0,  1,  0,  1],                                    |\n",
      "|                          |         [ 5,  0,  4,  5,  2,  0,  2,  0,  0],                                    |\n",
      "|                          |         [ 5,  0,  4,  5,  3,  0,  2,  0,  0],                                    |\n",
      "|                          |         [ 7,  0,  2,  6,  0,  0,  1,  0,  1]])                                   |\n",
      "+--------------------------+----------------------------------------------------------------------------------+\n",
      "| graph.y.shape            | torch.Size([1, 1])                                                               |\n",
      "+--------------------------+----------------------------------------------------------------------------------+\n",
      "| graph.y                  | tensor([[0]])                                                                    |\n",
      "+--------------------------+----------------------------------------------------------------------------------+\n",
      "| graph.edge_attr.shape    | torch.Size([40, 3])                                                              |\n",
      "+--------------------------+----------------------------------------------------------------------------------+\n",
      "| graph.edge_attr          | tensor([[0, 0, 0],                                                               |\n",
      "|                          |         [0, 0, 0],                                                               |\n",
      "|                          |         [0, 0, 0],                                                               |\n",
      "|                          |         [0, 0, 0],                                                               |\n",
      "|                          |         [1, 0, 0],                                                               |\n",
      "|                          |         [1, 0, 0],                                                               |\n",
      "|                          |         [0, 0, 0],                                                               |\n",
      "|                          |         [0, 0, 0],                                                               |\n",
      "|                          |         [0, 0, 0],                                                               |\n",
      "|                          |         [0, 0, 0],                                                               |\n",
      "|                          |         [1, 0, 0],                                                               |\n",
      "|                          |         [1, 0, 0],                                                               |\n",
      "|                          |         [0, 0, 0],                                                               |\n",
      "|                          |         [0, 0, 0],                                                               |\n",
      "|                          |         [0, 0, 0],                                                               |\n",
      "|                          |         [0, 0, 0],                                                               |\n",
      "|                          |         [0, 0, 0],                                                               |\n",
      "|                          |         [0, 0, 0],                                                               |\n",
      "|                          |         [0, 0, 0],                                                               |\n",
      "|                          |         [0, 0, 0],                                                               |\n",
      "|                          |         [1, 0, 0],                                                               |\n",
      "|                          |         [1, 0, 0],                                                               |\n",
      "|                          |         [0, 0, 0],                                                               |\n",
      "|                          |         [0, 0, 0],                                                               |\n",
      "|                          |         [0, 0, 0],                                                               |\n",
      "|                          |         [0, 0, 0],                                                               |\n",
      "|                          |         [0, 0, 0],                                                               |\n",
      "|                          |         [0, 0, 0],                                                               |\n",
      "|                          |         [0, 0, 0],                                                               |\n",
      "|                          |         [0, 0, 0],                                                               |\n",
      "|                          |         [0, 0, 0],                                                               |\n",
      "|                          |         [0, 0, 0],                                                               |\n",
      "|                          |         [0, 0, 0],                                                               |\n",
      "|                          |         [0, 0, 0],                                                               |\n",
      "|                          |         [1, 0, 0],                                                               |\n",
      "|                          |         [1, 0, 0],                                                               |\n",
      "|                          |         [0, 0, 0],                                                               |\n",
      "|                          |         [0, 0, 0],                                                               |\n",
      "|                          |         [0, 0, 0],                                                               |\n",
      "|                          |         [0, 0, 0]])                                                              |\n",
      "+--------------------------+----------------------------------------------------------------------------------+\n",
      "| graph.edge_index.shape   | torch.Size([2, 40])                                                              |\n",
      "+--------------------------+----------------------------------------------------------------------------------+\n",
      "| graph.edge_index         | tensor([[ 0,  1,  1,  2,  2,  3,  3,  4,  4,  5,  5,  6,  6,  7,  7,  8,  6,  9, |\n",
      "|                          |           4, 10, 10, 11, 11, 12, 12, 13, 11, 14, 14, 15, 15, 16, 16, 17, 15, 18, |\n",
      "|                          |           9,  2, 18,  4],                                                        |\n",
      "|                          |         [ 1,  0,  2,  1,  3,  2,  4,  3,  5,  4,  6,  5,  7,  6,  8,  7,  9,  6, |\n",
      "|                          |          10,  4, 11, 10, 12, 11, 13, 12, 14, 11, 15, 14, 16, 15, 17, 16, 18, 15, |\n",
      "|                          |           2,  9,  4, 18]])                                                       |\n",
      "+--------------------------+----------------------------------------------------------------------------------+\n"
     ]
    }
   ],
   "source": [
    "from tabulate import tabulate\n",
    "from torch_geometric.data import Data\n",
    "\n",
    "graph_number = 0\n",
    "graph: Data = dataset[graph_number]\n",
    "\n",
    "table = [\n",
    "    [\"Graph #\", graph_number],\n",
    "    [\"Graph Object\", graph],\n",
    "    [\"\", \"\"],\n",
    "    [\"graph.num_nodes\", graph.num_nodes],\n",
    "    [\"graph.num_edges\", graph.num_edges],\n",
    "    [\"graph.has_isolated_nodes\", graph.has_isolated_nodes()],\n",
    "    [\"graph.has_self_loops\", graph.has_self_loops()],\n",
    "    [\"graph.is_directed\", graph.is_directed()],\n",
    "    [\"graph.x.shape\", graph.x.shape],\n",
    "    [\"graph.x\", graph.x],\n",
    "    [\"graph.y.shape\", graph.y.shape],\n",
    "    [\"graph.y\", graph.y],\n",
    "    [\"graph.edge_attr.shape\", graph.edge_attr.shape],\n",
    "    [\"graph.edge_attr\", graph.edge_attr],\n",
    "    [\"graph.edge_index.shape\", graph.edge_index.shape],\n",
    "    [\"graph.edge_index\", graph.edge_index],\n",
    "]\n",
    "\n",
    "print(tabulate(table, headers=[\"Property\", \"Value\"], tablefmt=\"grid\"))\n"
   ]
  },
  {
   "cell_type": "markdown",
   "metadata": {},
   "source": [
    "### 1.3 Dataset Scaffolded Split\n",
    "Using `PyG` scaffolded splited dataset we have pre-defined __train__, __validation__ and __test__ sub-datasets."
   ]
  },
  {
   "cell_type": "code",
   "execution_count": 16,
   "metadata": {},
   "outputs": [],
   "source": [
    "train_idxes = dataset.get_idx_split().get('train')\n",
    "valid_idxes = dataset.get_idx_split().get('valid')\n",
    "test_idxes = dataset.get_idx_split().get('test')\n",
    "train_pyg_graphs = [dataset[i] for i in train_idxes]\n",
    "valid_pyg_graphs = [dataset[i] for i in valid_idxes]\n",
    "test_pyg_graphs = [dataset[i] for i in test_idxes]"
   ]
  },
  {
   "cell_type": "code",
   "execution_count": 17,
   "metadata": {},
   "outputs": [
    {
     "name": "stdout",
     "output_type": "stream",
     "text": [
      "+------------+--------+--------------+\n",
      "| Dataset    |   Size | Percentage   |\n",
      "+============+========+==============+\n",
      "| Train      |  32901 | 80.00%       |\n",
      "+------------+--------+--------------+\n",
      "| Validation |   4113 | 10.00%       |\n",
      "+------------+--------+--------------+\n",
      "| Test       |   4113 | 10.00%       |\n",
      "+------------+--------+--------------+\n"
     ]
    }
   ],
   "source": [
    "total_size = len(train_pyg_graphs) + len(valid_pyg_graphs) + len(test_pyg_graphs)\n",
    "train_percentage = (len(train_pyg_graphs) / total_size) * 100\n",
    "valid_percentage = (len(valid_pyg_graphs) / total_size) * 100\n",
    "test_percentage = (len(test_pyg_graphs) / total_size) * 100\n",
    "\n",
    "table = [\n",
    "    [\"Dataset\", \"Size\", \"Percentage\"],\n",
    "    [\"Train\", len(train_pyg_graphs), f\"{train_percentage:.2f}%\"],\n",
    "    [\"Validation\", len(valid_pyg_graphs), f\"{valid_percentage:.2f}%\"],\n",
    "    [\"Test\", len(test_pyg_graphs), f\"{test_percentage:.2f}%\"]\n",
    "]\n",
    "\n",
    "print(tabulate(table, headers=\"firstrow\", tablefmt=\"grid\"))"
   ]
  },
  {
   "cell_type": "markdown",
   "metadata": {},
   "source": [
    "## Step 2: Convert `pyg` graphs to `networkx` graphs\n",
    "\n",
    "Using our helper function `pyg_to_networkx()`, we make also the `networkx` graphs version of the dataset. "
   ]
  },
  {
   "cell_type": "code",
   "execution_count": 18,
   "metadata": {},
   "outputs": [],
   "source": [
    "import sys\n",
    "sys.path.append('..')  # Add parent directory to Python path\n",
    "\n",
    "from utils.utils import pyg_to_networkx\n",
    "\n",
    "train_nx_graphs = [pyg_to_networkx(i) for i in train_pyg_graphs]\n",
    "valid_nx_graphs = [pyg_to_networkx(i) for i in valid_pyg_graphs]\n",
    "test_nx_graphs = [pyg_to_networkx(i) for i in test_pyg_graphs]"
   ]
  },
  {
   "cell_type": "markdown",
   "metadata": {},
   "source": [
    "## Step 3: Get `SMILES` version of graphs\n",
    "\n",
    "Using the secondary dataset, we get and concate the `SMILES` or string version of the graphs. "
   ]
  },
  {
   "cell_type": "code",
   "execution_count": 19,
   "metadata": {},
   "outputs": [
    {
     "name": "stderr",
     "output_type": "stream",
     "text": [
      "  0%|          | 0/41127 [00:00<?, ?it/s]"
     ]
    },
    {
     "name": "stderr",
     "output_type": "stream",
     "text": [
      " 85%|████████▌ | 35081/41127 [00:03<00:00, 9613.83it/s] [18:12:05] WARNING: not removing hydrogen atom without neighbors\n",
      "[18:12:05] WARNING: not removing hydrogen atom without neighbors\n",
      "100%|██████████| 41127/41127 [00:04<00:00, 9854.51it/s]\n"
     ]
    }
   ],
   "source": [
    "from rdkit import Chem, RDConfig\n",
    "from rdkit.Chem import AllChem\n",
    "from rdkit import DataStructs\n",
    "from rdkit.Chem.rdmolops import GetAdjacencyMatrix\n",
    "from rdkit.Chem.Lipinski import *\n",
    "from rdkit.Chem.AtomPairs import Torsions, Pairs\n",
    "from rdkit.Chem import MACCSkeys \n",
    "from rdkit.Chem import rdMolDescriptors\n",
    "from rdkit.Chem import ChemicalFeatures\n",
    "from rdkit.Chem import MACCSkeys \n",
    "import numpy as np\n",
    "import pandas as pd\n",
    "pd.set_option('mode.chained_assignment', None)\n",
    "from tqdm import tqdm\n",
    "from ogb.graphproppred import GraphPropPredDataset\n",
    "from tqdm import tqdm\n",
    "\n",
    "smile_data = pd.read_csv(f\"../dataset/ogbg_molhiv/mapping/mol.csv.gz\".replace(\"-\", \"_\"))\n",
    "smile_data.drop([\"mol_id\"], axis = 1, inplace=True)\n",
    "mol = [Chem.MolFromSmiles(x) for x in tqdm(smile_data.smiles)]\n",
    "smile_data['mol'] = mol\n",
    "train_dataset = smile_data.iloc[train_idxes]\n",
    "train_dataset['nx_graph'] = train_nx_graphs\n",
    "train_dataset['pyg_graph'] = train_pyg_graphs\n",
    "train_dataset['num_nodes'] = train_dataset['pyg_graph'].apply(lambda pyg_graph: pyg_graph.num_nodes)\n",
    "train_dataset['num_edges'] = train_dataset['pyg_graph'].apply(lambda pyg_graph: pyg_graph.num_edges)\n",
    "valid_dataset = smile_data.iloc[valid_idxes]\n",
    "valid_dataset['nx_graph'] = valid_nx_graphs\n",
    "valid_dataset['pyg_graph'] = valid_pyg_graphs\n",
    "valid_dataset['num_nodes'] = valid_dataset['pyg_graph'].apply(lambda pyg_graph: pyg_graph.num_nodes)\n",
    "valid_dataset['num_edges'] = valid_dataset['pyg_graph'].apply(lambda pyg_graph: pyg_graph.num_edges)\n",
    "test_dataset = smile_data.iloc[test_idxes]\n",
    "test_dataset['nx_graph'] = test_nx_graphs\n",
    "test_dataset['pyg_graph'] = test_pyg_graphs\n",
    "test_dataset['num_nodes'] = test_dataset['pyg_graph'].apply(lambda pyg_graph: pyg_graph.num_nodes)\n",
    "test_dataset['num_edges'] = test_dataset['pyg_graph'].apply(lambda pyg_graph: pyg_graph.num_edges)\n"
   ]
  },
  {
   "cell_type": "code",
   "execution_count": 20,
   "metadata": {},
   "outputs": [
    {
     "data": {
      "text/html": [
       "<div>\n",
       "<style scoped>\n",
       "    .dataframe tbody tr th:only-of-type {\n",
       "        vertical-align: middle;\n",
       "    }\n",
       "\n",
       "    .dataframe tbody tr th {\n",
       "        vertical-align: top;\n",
       "    }\n",
       "\n",
       "    .dataframe thead th {\n",
       "        text-align: right;\n",
       "    }\n",
       "</style>\n",
       "<table border=\"1\" class=\"dataframe\">\n",
       "  <thead>\n",
       "    <tr style=\"text-align: right;\">\n",
       "      <th></th>\n",
       "      <th>HIV_active</th>\n",
       "      <th>smiles</th>\n",
       "      <th>mol</th>\n",
       "      <th>nx_graph</th>\n",
       "      <th>pyg_graph</th>\n",
       "      <th>num_nodes</th>\n",
       "      <th>num_edges</th>\n",
       "    </tr>\n",
       "  </thead>\n",
       "  <tbody>\n",
       "    <tr>\n",
       "      <th>3</th>\n",
       "      <td>0</td>\n",
       "      <td>Nc1ccc(C=Cc2ccc(N)cc2S(=O)(=O)O)c(S(=O)(=O)O)c1</td>\n",
       "      <td>&lt;rdkit.Chem.rdchem.Mol object at 0x7fbaac83f660&gt;</td>\n",
       "      <td>(0, 1, 2, 3, 4, 5, 6, 7, 8, 9, 10, 11, 12, 13,...</td>\n",
       "      <td>[(edge_index, [tensor([ 0,  1,  1,  2,  2,  3,...</td>\n",
       "      <td>24</td>\n",
       "      <td>50</td>\n",
       "    </tr>\n",
       "    <tr>\n",
       "      <th>4</th>\n",
       "      <td>0</td>\n",
       "      <td>O=S(=O)(O)CCS(=O)(=O)O</td>\n",
       "      <td>&lt;rdkit.Chem.rdchem.Mol object at 0x7fbaac83f6d0&gt;</td>\n",
       "      <td>(0, 1, 2, 3, 4, 5, 6, 7, 8, 9)</td>\n",
       "      <td>[(edge_index, [tensor([0, 1, 1, 2, 1, 3, 1, 4,...</td>\n",
       "      <td>10</td>\n",
       "      <td>18</td>\n",
       "    </tr>\n",
       "    <tr>\n",
       "      <th>5</th>\n",
       "      <td>0</td>\n",
       "      <td>CCOP(=O)(Nc1cccc(Cl)c1)OCC</td>\n",
       "      <td>&lt;rdkit.Chem.rdchem.Mol object at 0x7fbaac83f740&gt;</td>\n",
       "      <td>(0, 1, 2, 3, 4, 5, 6, 7, 8, 9, 10, 11, 12, 13,...</td>\n",
       "      <td>[(edge_index, [tensor([ 0,  1,  1,  2,  2,  3,...</td>\n",
       "      <td>16</td>\n",
       "      <td>32</td>\n",
       "    </tr>\n",
       "    <tr>\n",
       "      <th>6</th>\n",
       "      <td>0</td>\n",
       "      <td>O=C(O)c1ccccc1O</td>\n",
       "      <td>&lt;rdkit.Chem.rdchem.Mol object at 0x7fbaac83f7b0&gt;</td>\n",
       "      <td>(0, 1, 2, 3, 4, 5, 6, 7, 8, 9)</td>\n",
       "      <td>[(edge_index, [tensor([0, 1, 1, 2, 1, 3, 3, 4,...</td>\n",
       "      <td>10</td>\n",
       "      <td>20</td>\n",
       "    </tr>\n",
       "    <tr>\n",
       "      <th>8</th>\n",
       "      <td>0</td>\n",
       "      <td>O=[N+]([O-])c1ccc(SSc2ccc([N+](=O)[O-])cc2[N+]...</td>\n",
       "      <td>&lt;rdkit.Chem.rdchem.Mol object at 0x7fbaac83f890&gt;</td>\n",
       "      <td>(0, 1, 2, 3, 4, 5, 6, 7, 8, 9, 10, 11, 12, 13,...</td>\n",
       "      <td>[(edge_index, [tensor([ 0,  1,  1,  2,  1,  3,...</td>\n",
       "      <td>26</td>\n",
       "      <td>54</td>\n",
       "    </tr>\n",
       "  </tbody>\n",
       "</table>\n",
       "</div>"
      ],
      "text/plain": [
       "   HIV_active                                             smiles  \\\n",
       "3           0    Nc1ccc(C=Cc2ccc(N)cc2S(=O)(=O)O)c(S(=O)(=O)O)c1   \n",
       "4           0                             O=S(=O)(O)CCS(=O)(=O)O   \n",
       "5           0                         CCOP(=O)(Nc1cccc(Cl)c1)OCC   \n",
       "6           0                                    O=C(O)c1ccccc1O   \n",
       "8           0  O=[N+]([O-])c1ccc(SSc2ccc([N+](=O)[O-])cc2[N+]...   \n",
       "\n",
       "                                                mol  \\\n",
       "3  <rdkit.Chem.rdchem.Mol object at 0x7fbaac83f660>   \n",
       "4  <rdkit.Chem.rdchem.Mol object at 0x7fbaac83f6d0>   \n",
       "5  <rdkit.Chem.rdchem.Mol object at 0x7fbaac83f740>   \n",
       "6  <rdkit.Chem.rdchem.Mol object at 0x7fbaac83f7b0>   \n",
       "8  <rdkit.Chem.rdchem.Mol object at 0x7fbaac83f890>   \n",
       "\n",
       "                                            nx_graph  \\\n",
       "3  (0, 1, 2, 3, 4, 5, 6, 7, 8, 9, 10, 11, 12, 13,...   \n",
       "4                     (0, 1, 2, 3, 4, 5, 6, 7, 8, 9)   \n",
       "5  (0, 1, 2, 3, 4, 5, 6, 7, 8, 9, 10, 11, 12, 13,...   \n",
       "6                     (0, 1, 2, 3, 4, 5, 6, 7, 8, 9)   \n",
       "8  (0, 1, 2, 3, 4, 5, 6, 7, 8, 9, 10, 11, 12, 13,...   \n",
       "\n",
       "                                           pyg_graph  num_nodes  num_edges  \n",
       "3  [(edge_index, [tensor([ 0,  1,  1,  2,  2,  3,...         24         50  \n",
       "4  [(edge_index, [tensor([0, 1, 1, 2, 1, 3, 1, 4,...         10         18  \n",
       "5  [(edge_index, [tensor([ 0,  1,  1,  2,  2,  3,...         16         32  \n",
       "6  [(edge_index, [tensor([0, 1, 1, 2, 1, 3, 3, 4,...         10         20  \n",
       "8  [(edge_index, [tensor([ 0,  1,  1,  2,  1,  3,...         26         54  "
      ]
     },
     "execution_count": 20,
     "metadata": {},
     "output_type": "execute_result"
    }
   ],
   "source": [
    "train_dataset.head()"
   ]
  },
  {
   "cell_type": "markdown",
   "metadata": {},
   "source": [
    "There is good visualization of the `Molecules` in `rdkit` library."
   ]
  },
  {
   "cell_type": "code",
   "execution_count": 21,
   "metadata": {},
   "outputs": [
    {
     "data": {
      "image/png": "[encoded data removed]",
      "text/plain": [
       "<rdkit.Chem.rdchem.Mol at 0x7fbaac83f660>"
      ]
     },
     "execution_count": 21,
     "metadata": {},
     "output_type": "execute_result"
    }
   ],
   "source": [
    "train_dataset.iloc[0].mol"
   ]
  },
  {
   "cell_type": "markdown",
   "metadata": {},
   "source": [
    "## Step 4: Extract `Molecular` Features from the `SMILE` string\n",
    "\n",
    "### 4.1: Morgan Fingerprint\n"
   ]
  },
  {
   "cell_type": "code",
   "execution_count": 22,
   "metadata": {},
   "outputs": [],
   "source": [
    "def morgan_fp(mol):\n",
    "    return np.array(AllChem.GetMorganFingerprintAsBitVect(mol ,radius = 3, nBits=3*1024), dtype= np.int8)\n",
    "\n",
    "train_dataset['morgan_fp'] = train_dataset['mol'].apply(lambda mol: morgan_fp(mol))\n",
    "valid_dataset['morgan_fp'] = valid_dataset['mol'].apply(lambda mol: morgan_fp(mol))\n",
    "test_dataset['morgan_fp'] = test_dataset['mol'].apply(lambda mol: morgan_fp(mol))"
   ]
  },
  {
   "cell_type": "markdown",
   "metadata": {},
   "source": [
    "### 4.2: RDKit-FP"
   ]
  },
  {
   "cell_type": "code",
   "execution_count": 23,
   "metadata": {},
   "outputs": [],
   "source": [
    "def rdkit_fp(mol):\n",
    "    return np.array(Chem.RDKFingerprint(mol, maxPath = 5, bitInfo={}), dtype= np.int8)\n",
    "\n",
    "train_dataset['rdkit_fp'] = train_dataset['mol'].apply(lambda mol: rdkit_fp(mol))\n",
    "valid_dataset['rdkit_fp'] = valid_dataset['mol'].apply(lambda mol: rdkit_fp(mol))\n",
    "test_dataset['rdkit_fp'] = test_dataset['mol'].apply(lambda mol: rdkit_fp(mol))"
   ]
  },
  {
   "cell_type": "code",
   "execution_count": 24,
   "metadata": {},
   "outputs": [
    {
     "data": {
      "text/html": [
       "<div>\n",
       "<style scoped>\n",
       "    .dataframe tbody tr th:only-of-type {\n",
       "        vertical-align: middle;\n",
       "    }\n",
       "\n",
       "    .dataframe tbody tr th {\n",
       "        vertical-align: top;\n",
       "    }\n",
       "\n",
       "    .dataframe thead th {\n",
       "        text-align: right;\n",
       "    }\n",
       "</style>\n",
       "<table border=\"1\" class=\"dataframe\">\n",
       "  <thead>\n",
       "    <tr style=\"text-align: right;\">\n",
       "      <th></th>\n",
       "      <th>HIV_active</th>\n",
       "      <th>smiles</th>\n",
       "      <th>mol</th>\n",
       "      <th>nx_graph</th>\n",
       "      <th>pyg_graph</th>\n",
       "      <th>num_nodes</th>\n",
       "      <th>num_edges</th>\n",
       "      <th>morgan_fp</th>\n",
       "      <th>rdkit_fp</th>\n",
       "    </tr>\n",
       "  </thead>\n",
       "  <tbody>\n",
       "    <tr>\n",
       "      <th>3</th>\n",
       "      <td>0</td>\n",
       "      <td>Nc1ccc(C=Cc2ccc(N)cc2S(=O)(=O)O)c(S(=O)(=O)O)c1</td>\n",
       "      <td>&lt;rdkit.Chem.rdchem.Mol object at 0x7fbaac83f660&gt;</td>\n",
       "      <td>(0, 1, 2, 3, 4, 5, 6, 7, 8, 9, 10, 11, 12, 13,...</td>\n",
       "      <td>[(edge_index, [tensor([ 0,  1,  1,  2,  2,  3,...</td>\n",
       "      <td>24</td>\n",
       "      <td>50</td>\n",
       "      <td>[0, 0, 0, 0, 0, 0, 0, 0, 0, 0, 0, 0, 0, 0, 0, ...</td>\n",
       "      <td>[0, 0, 0, 0, 0, 0, 0, 0, 0, 0, 0, 0, 0, 0, 0, ...</td>\n",
       "    </tr>\n",
       "    <tr>\n",
       "      <th>4</th>\n",
       "      <td>0</td>\n",
       "      <td>O=S(=O)(O)CCS(=O)(=O)O</td>\n",
       "      <td>&lt;rdkit.Chem.rdchem.Mol object at 0x7fbaac83f6d0&gt;</td>\n",
       "      <td>(0, 1, 2, 3, 4, 5, 6, 7, 8, 9)</td>\n",
       "      <td>[(edge_index, [tensor([0, 1, 1, 2, 1, 3, 1, 4,...</td>\n",
       "      <td>10</td>\n",
       "      <td>18</td>\n",
       "      <td>[0, 0, 0, 0, 0, 0, 0, 0, 0, 0, 0, 0, 0, 0, 0, ...</td>\n",
       "      <td>[0, 0, 0, 0, 0, 0, 0, 0, 0, 0, 0, 0, 0, 0, 0, ...</td>\n",
       "    </tr>\n",
       "    <tr>\n",
       "      <th>5</th>\n",
       "      <td>0</td>\n",
       "      <td>CCOP(=O)(Nc1cccc(Cl)c1)OCC</td>\n",
       "      <td>&lt;rdkit.Chem.rdchem.Mol object at 0x7fbaac83f740&gt;</td>\n",
       "      <td>(0, 1, 2, 3, 4, 5, 6, 7, 8, 9, 10, 11, 12, 13,...</td>\n",
       "      <td>[(edge_index, [tensor([ 0,  1,  1,  2,  2,  3,...</td>\n",
       "      <td>16</td>\n",
       "      <td>32</td>\n",
       "      <td>[0, 0, 0, 0, 0, 0, 0, 0, 0, 0, 0, 0, 0, 0, 0, ...</td>\n",
       "      <td>[0, 0, 0, 0, 0, 0, 0, 0, 0, 0, 0, 0, 0, 0, 0, ...</td>\n",
       "    </tr>\n",
       "    <tr>\n",
       "      <th>6</th>\n",
       "      <td>0</td>\n",
       "      <td>O=C(O)c1ccccc1O</td>\n",
       "      <td>&lt;rdkit.Chem.rdchem.Mol object at 0x7fbaac83f7b0&gt;</td>\n",
       "      <td>(0, 1, 2, 3, 4, 5, 6, 7, 8, 9)</td>\n",
       "      <td>[(edge_index, [tensor([0, 1, 1, 2, 1, 3, 3, 4,...</td>\n",
       "      <td>10</td>\n",
       "      <td>20</td>\n",
       "      <td>[0, 0, 0, 0, 0, 0, 0, 0, 0, 0, 0, 0, 0, 0, 0, ...</td>\n",
       "      <td>[0, 0, 0, 0, 0, 0, 0, 0, 0, 0, 0, 0, 0, 0, 0, ...</td>\n",
       "    </tr>\n",
       "    <tr>\n",
       "      <th>8</th>\n",
       "      <td>0</td>\n",
       "      <td>O=[N+]([O-])c1ccc(SSc2ccc([N+](=O)[O-])cc2[N+]...</td>\n",
       "      <td>&lt;rdkit.Chem.rdchem.Mol object at 0x7fbaac83f890&gt;</td>\n",
       "      <td>(0, 1, 2, 3, 4, 5, 6, 7, 8, 9, 10, 11, 12, 13,...</td>\n",
       "      <td>[(edge_index, [tensor([ 0,  1,  1,  2,  1,  3,...</td>\n",
       "      <td>26</td>\n",
       "      <td>54</td>\n",
       "      <td>[0, 0, 0, 0, 0, 0, 0, 0, 0, 0, 0, 0, 0, 0, 0, ...</td>\n",
       "      <td>[0, 0, 0, 0, 0, 0, 0, 0, 0, 0, 0, 0, 0, 0, 0, ...</td>\n",
       "    </tr>\n",
       "  </tbody>\n",
       "</table>\n",
       "</div>"
      ],
      "text/plain": [
       "   HIV_active                                             smiles  \\\n",
       "3           0    Nc1ccc(C=Cc2ccc(N)cc2S(=O)(=O)O)c(S(=O)(=O)O)c1   \n",
       "4           0                             O=S(=O)(O)CCS(=O)(=O)O   \n",
       "5           0                         CCOP(=O)(Nc1cccc(Cl)c1)OCC   \n",
       "6           0                                    O=C(O)c1ccccc1O   \n",
       "8           0  O=[N+]([O-])c1ccc(SSc2ccc([N+](=O)[O-])cc2[N+]...   \n",
       "\n",
       "                                                mol  \\\n",
       "3  <rdkit.Chem.rdchem.Mol object at 0x7fbaac83f660>   \n",
       "4  <rdkit.Chem.rdchem.Mol object at 0x7fbaac83f6d0>   \n",
       "5  <rdkit.Chem.rdchem.Mol object at 0x7fbaac83f740>   \n",
       "6  <rdkit.Chem.rdchem.Mol object at 0x7fbaac83f7b0>   \n",
       "8  <rdkit.Chem.rdchem.Mol object at 0x7fbaac83f890>   \n",
       "\n",
       "                                            nx_graph  \\\n",
       "3  (0, 1, 2, 3, 4, 5, 6, 7, 8, 9, 10, 11, 12, 13,...   \n",
       "4                     (0, 1, 2, 3, 4, 5, 6, 7, 8, 9)   \n",
       "5  (0, 1, 2, 3, 4, 5, 6, 7, 8, 9, 10, 11, 12, 13,...   \n",
       "6                     (0, 1, 2, 3, 4, 5, 6, 7, 8, 9)   \n",
       "8  (0, 1, 2, 3, 4, 5, 6, 7, 8, 9, 10, 11, 12, 13,...   \n",
       "\n",
       "                                           pyg_graph  num_nodes  num_edges  \\\n",
       "3  [(edge_index, [tensor([ 0,  1,  1,  2,  2,  3,...         24         50   \n",
       "4  [(edge_index, [tensor([0, 1, 1, 2, 1, 3, 1, 4,...         10         18   \n",
       "5  [(edge_index, [tensor([ 0,  1,  1,  2,  2,  3,...         16         32   \n",
       "6  [(edge_index, [tensor([0, 1, 1, 2, 1, 3, 3, 4,...         10         20   \n",
       "8  [(edge_index, [tensor([ 0,  1,  1,  2,  1,  3,...         26         54   \n",
       "\n",
       "                                           morgan_fp  \\\n",
       "3  [0, 0, 0, 0, 0, 0, 0, 0, 0, 0, 0, 0, 0, 0, 0, ...   \n",
       "4  [0, 0, 0, 0, 0, 0, 0, 0, 0, 0, 0, 0, 0, 0, 0, ...   \n",
       "5  [0, 0, 0, 0, 0, 0, 0, 0, 0, 0, 0, 0, 0, 0, 0, ...   \n",
       "6  [0, 0, 0, 0, 0, 0, 0, 0, 0, 0, 0, 0, 0, 0, 0, ...   \n",
       "8  [0, 0, 0, 0, 0, 0, 0, 0, 0, 0, 0, 0, 0, 0, 0, ...   \n",
       "\n",
       "                                            rdkit_fp  \n",
       "3  [0, 0, 0, 0, 0, 0, 0, 0, 0, 0, 0, 0, 0, 0, 0, ...  \n",
       "4  [0, 0, 0, 0, 0, 0, 0, 0, 0, 0, 0, 0, 0, 0, 0, ...  \n",
       "5  [0, 0, 0, 0, 0, 0, 0, 0, 0, 0, 0, 0, 0, 0, 0, ...  \n",
       "6  [0, 0, 0, 0, 0, 0, 0, 0, 0, 0, 0, 0, 0, 0, 0, ...  \n",
       "8  [0, 0, 0, 0, 0, 0, 0, 0, 0, 0, 0, 0, 0, 0, 0, ...  "
      ]
     },
     "execution_count": 24,
     "metadata": {},
     "output_type": "execute_result"
    }
   ],
   "source": [
    "train_dataset.head()"
   ]
  },
  {
   "cell_type": "markdown",
   "metadata": {},
   "source": [
    "## 5: EDA"
   ]
  },
  {
   "cell_type": "code",
   "execution_count": 31,
   "metadata": {},
   "outputs": [
    {
     "name": "stdout",
     "output_type": "stream",
     "text": [
      "32901\n"
     ]
    },
    {
     "data": {
      "image/png": "[encoded data removed]",
      "text/plain": [
       "<Figure size 640x480 with 1 Axes>"
      ]
     },
     "metadata": {},
     "output_type": "display_data"
    }
   ],
   "source": [
    "import matplotlib.pyplot as plt\n",
    "\n",
    "# Add this line to display plots inline\n",
    "%matplotlib inline\n",
    "\n",
    "print(len(train_dataset['HIV_active']))\n",
    "\n",
    "# Plot the number of occurrences for each class\n",
    "class_counts = train_dataset['HIV_active'].value_counts()\n",
    "ax = class_counts.plot(kind='bar', rot=0, color='skyblue')\n",
    "\n",
    "# Annotate each bar with its percentage\n",
    "total = len(train_dataset['HIV_active'])\n",
    "for i, count in enumerate(class_counts):\n",
    "    percentage = count / total * 100\n",
    "    plt.text(i, count / 2, f'{percentage:.2f}%', ha='center', va='center')\n",
    "\n",
    "plt.title('Number of Occurrences for Each Class in Training Dataset')\n",
    "plt.xlabel('HIV_active')\n",
    "plt.ylabel('Count')\n",
    "plt.show()"
   ]
  },
  {
   "cell_type": "code",
   "execution_count": 26,
   "metadata": {},
   "outputs": [
    {
     "name": "stdout",
     "output_type": "stream",
     "text": [
      "32735\n",
      "31638\n"
     ]
    }
   ],
   "source": [
    "for column in ['morgan_fp','rdkit_fp']:\n",
    "    print(len(train_dataset[column].apply(lambda x: tuple(x) if isinstance(x, np.ndarray) else x).unique()))"
   ]
  },
  {
   "cell_type": "markdown",
   "metadata": {},
   "source": [
    "## 5: RF & XGBoost"
   ]
  },
  {
   "cell_type": "code",
   "execution_count": 32,
   "metadata": {},
   "outputs": [],
   "source": [
    "from sklearn.ensemble import RandomForestClassifier\n",
    "from sklearn.metrics import accuracy_score, classification_report, confusion_matrix\n",
    "from sklearn.model_selection import GridSearchCV\n",
    "from sklearn.metrics import make_scorer\n",
    "from ogb.graphproppred import Evaluator\n",
    "from xgboost import XGBClassifier\n",
    "\n",
    "def customRandomForest(feature_column, tag_column, param_grid, mode='randomForest'):\n",
    "    '''\n",
    "    input: feature_column, tag_column, param_grid, 'randomForest'/'xGBoost'\n",
    "\n",
    "    rf example:\n",
    "    param_grid = {\n",
    "        'n_estimators': [50, 100, 200],\n",
    "        'max_depth': [None, 10, 20],\n",
    "        'min_samples_split': [2, 5, 10],\n",
    "        'min_samples_leaf': [1, 5, 10],\n",
    "        'class_weight': ['balanced']\n",
    "    }\n",
    "\n",
    "    xgb example:\n",
    "    param_grid = {\n",
    "    'n_estimators': [50, 100, 200],\n",
    "    'max_depth': [3, 5, 7],\n",
    "    'learning_rate': [0.01, 0.1, 0.2],\n",
    "    'subsample': [0.8, 1.0],\n",
    "    'colsample_bytree': [0.8, 1.0],\n",
    "    }\n",
    "    '''  \n",
    "    def custom_scorer(y_true, y_pred):\n",
    "\n",
    "        # You can learn the input and output format specification of the evaluator as follows.\n",
    "        #print(evaluator.expected_input_format) \n",
    "        #print(evaluator.expected_output_format)\n",
    "\n",
    "        evaluator = Evaluator(name = \"ogbg-molhiv\")\n",
    "        result_dict = evaluator.eval({\"y_true\": np.vstack(y_true), \"y_pred\": np.vstack(y_pred)})\n",
    "        return  result_dict['rocauc']\n",
    "\n",
    "    evaluator = Evaluator(name = \"ogbg-molhiv\")\n",
    "\n",
    "    # Separate features and target\n",
    "    X_train = np.vstack(train_dataset[feature_column].values)\n",
    "    y_train = train_dataset[tag_column].values\n",
    "\n",
    "    X_valid = np.vstack(valid_dataset[feature_column].values)\n",
    "    y_valid = valid_dataset[tag_column].values\n",
    "\n",
    "    X_test = np.vstack(test_dataset[feature_column].values)\n",
    "    y_test = test_dataset[tag_column].values\n",
    "\n",
    "    #############################################################################################################\n",
    "\n",
    "    if mode == 'randomForest':\n",
    "        # Create a RandomForestClassifier\n",
    "        classifier = RandomForestClassifier(random_state=42)\n",
    "\n",
    "    elif mode == 'xGBoost':\n",
    "        # Create XGBoost classifier\n",
    "        classifier = XGBClassifier(random_state=42)\n",
    "\n",
    "    # Define the F1 score as the scoring metric for the grid search\n",
    "    scorer = make_scorer(custom_scorer, greater_is_better=True)\n",
    "\n",
    "    # Create GridSearchCV object\n",
    "    grid_search = GridSearchCV(estimator=classifier, param_grid=param_grid, scoring=scorer, cv=5, n_jobs=-1)\n",
    "\n",
    "    # Perform the grid search on the training data\n",
    "    grid_search.fit(X_train, y_train)\n",
    "\n",
    "    # Print the best hyperparameters\n",
    "    best_params = grid_search.best_params_\n",
    "    print(f\"Best Hyperparameters: {best_params}\")\n",
    "    print(\"#########################################################\")\n",
    "\n",
    "    # Get the best model\n",
    "    best_model = grid_search.best_estimator_\n",
    "\n",
    "    #############################################################################################################\n",
    "    # Make predictions on the test set using the best model\n",
    "    y_pred_valid = best_model.predict(X_valid)\n",
    "\n",
    "    # Evaluate the best model\n",
    "    accuracy_valid = accuracy_score(y_valid, y_pred_valid)\n",
    "    conf_matrix_valid = confusion_matrix(y_valid, y_pred_valid)\n",
    "    classification_rep_valid = classification_report(y_valid, y_pred_valid)\n",
    "\n",
    "    print(f'accuracy_valid: {accuracy_valid}')\n",
    "    print(f'conf_matrix_valid:\\n{conf_matrix_valid}')\n",
    "    print(f'classification_rep_valid:\\n{classification_rep_valid}')\n",
    "\n",
    "    result_dict_valid = evaluator.eval({\"y_true\": np.vstack(y_valid), \"y_pred\": np.vstack(y_pred_valid)})\n",
    "    print(f'rocauc:\\n{result_dict_valid}')\n",
    "    print(\"#########################################################\")\n",
    "\n",
    "    #############################################################################################################\n",
    "    # Make predictions on the test set using the best model\n",
    "    y_pred_test = best_model.predict(X_test)\n",
    "\n",
    "    # Evaluate the best model\n",
    "    accuracy_test = accuracy_score(y_test, y_pred_test)\n",
    "    conf_matrix_test = confusion_matrix(y_test, y_pred_test)\n",
    "    classification_rep_test = classification_report(y_test, y_pred_test)\n",
    "\n",
    "    print(f'accuracy_test: {accuracy_test}')\n",
    "    print(f'conf_matrix_test:\\n{conf_matrix_test}')\n",
    "    print(f'classification_rep_test:\\n{classification_rep_test}')\n",
    "\n",
    "    result_dict_test = evaluator.eval({\"y_true\": np.vstack(y_test), \"y_pred\": np.vstack(y_pred_test)})\n",
    "    print(f'rocauc:\\n{result_dict_test}')"
   ]
  },
  {
   "cell_type": "code",
   "execution_count": 74,
   "metadata": {},
   "outputs": [
    {
     "name": "stdout",
     "output_type": "stream",
     "text": [
      "Best Hyperparameters: {'class_weight': 'balanced', 'n_estimators': 50}\n",
      "#########################################################\n",
      "accuracy_valid: 0.9822513980063214\n",
      "conf_matrix_valid:\n",
      "[[4026    6]\n",
      " [  67   14]]\n",
      "classification_rep_valid:\n",
      "              precision    recall  f1-score   support\n",
      "\n",
      "           0       0.98      1.00      0.99      4032\n",
      "           1       0.70      0.17      0.28        81\n",
      "\n",
      "    accuracy                           0.98      4113\n",
      "   macro avg       0.84      0.59      0.63      4113\n",
      "weighted avg       0.98      0.98      0.98      4113\n",
      "\n",
      "rocauc:\n",
      "{'rocauc': 0.585675705467372}\n",
      "#########################################################\n",
      "accuracy_test: 0.9717967420374423\n",
      "conf_matrix_test:\n",
      "[[3980    3]\n",
      " [ 113   17]]\n",
      "classification_rep_test:\n",
      "              precision    recall  f1-score   support\n",
      "\n",
      "           0       0.97      1.00      0.99      3983\n",
      "           1       0.85      0.13      0.23       130\n",
      "\n",
      "    accuracy                           0.97      4113\n",
      "   macro avg       0.91      0.57      0.61      4113\n",
      "weighted avg       0.97      0.97      0.96      4113\n",
      "\n",
      "rocauc:\n",
      "{'rocauc': 0.5650080148322679}\n"
     ]
    }
   ],
   "source": [
    "param_grid = {\n",
    "    'n_estimators': [50,100],\n",
    "    'class_weight': ['balanced']\n",
    "}\n",
    "customRandomForest('morgan_fp', 'HIV_active', param_grid, 'randomForest')"
   ]
  },
  {
   "cell_type": "code",
   "execution_count": 75,
   "metadata": {},
   "outputs": [
    {
     "name": "stdout",
     "output_type": "stream",
     "text": [
      "Best Hyperparameters: {'class_weight': 'balanced', 'n_estimators': 100}\n",
      "#########################################################\n",
      "accuracy_valid: 0.9817651349380014\n",
      "conf_matrix_valid:\n",
      "[[4028    4]\n",
      " [  71   10]]\n",
      "classification_rep_valid:\n",
      "              precision    recall  f1-score   support\n",
      "\n",
      "           0       0.98      1.00      0.99      4032\n",
      "           1       0.71      0.12      0.21        81\n",
      "\n",
      "    accuracy                           0.98      4113\n",
      "   macro avg       0.85      0.56      0.60      4113\n",
      "weighted avg       0.98      0.98      0.98      4113\n",
      "\n",
      "rocauc:\n",
      "{'rocauc': 0.5612323633156967}\n",
      "#########################################################\n",
      "accuracy_test: 0.9688791636275225\n",
      "conf_matrix_test:\n",
      "[[3970   13]\n",
      " [ 115   15]]\n",
      "classification_rep_test:\n",
      "              precision    recall  f1-score   support\n",
      "\n",
      "           0       0.97      1.00      0.98      3983\n",
      "           1       0.54      0.12      0.19       130\n",
      "\n",
      "    accuracy                           0.97      4113\n",
      "   macro avg       0.75      0.56      0.59      4113\n",
      "weighted avg       0.96      0.97      0.96      4113\n",
      "\n",
      "rocauc:\n",
      "{'rocauc': 0.5560603719654686}\n"
     ]
    }
   ],
   "source": [
    "param_grid = {\n",
    "    'n_estimators': [50,100],\n",
    "    'class_weight': ['balanced']\n",
    "}\n",
    "customRandomForest('rdkit_fp', 'HIV_active', param_grid, 'randomForest')"
   ]
  },
  {
   "cell_type": "code",
   "execution_count": 19,
   "metadata": {},
   "outputs": [
    {
     "name": "stdout",
     "output_type": "stream",
     "text": [
      "Best Hyperparameters: {'n_estimators': 100}\n",
      "#########################################################\n",
      "accuracy_valid: 0.9822513980063214\n",
      "conf_matrix_valid:\n",
      "[[4027    5]\n",
      " [  68   13]]\n",
      "classification_rep_valid:\n",
      "              precision    recall  f1-score   support\n",
      "\n",
      "           0       0.98      1.00      0.99      4032\n",
      "           1       0.72      0.16      0.26        81\n",
      "\n",
      "    accuracy                           0.98      4113\n",
      "   macro avg       0.85      0.58      0.63      4113\n",
      "weighted avg       0.98      0.98      0.98      4113\n",
      "\n",
      "rocauc:\n",
      "{'rocauc': 0.5796268738977073}\n",
      "#########################################################\n",
      "accuracy_test: 0.9715536105032823\n",
      "conf_matrix_test:\n",
      "[[3977    6]\n",
      " [ 111   19]]\n",
      "classification_rep_test:\n",
      "              precision    recall  f1-score   support\n",
      "\n",
      "           0       0.97      1.00      0.99      3983\n",
      "           1       0.76      0.15      0.25       130\n",
      "\n",
      "    accuracy                           0.97      4113\n",
      "   macro avg       0.87      0.57      0.62      4113\n",
      "weighted avg       0.97      0.97      0.96      4113\n",
      "\n",
      "rocauc:\n",
      "{'rocauc': 0.572323721972228}\n"
     ]
    }
   ],
   "source": [
    "param_grid = {\n",
    "'n_estimators': [50, 100],\n",
    "}\n",
    "customRandomForest('morgan_fp', 'HIV_active', param_grid, 'xGBoost')"
   ]
  },
  {
   "cell_type": "code",
   "execution_count": null,
   "metadata": {},
   "outputs": [],
   "source": []
  }
 ],
 "metadata": {
  "colab": {
   "authorship_tag": "ABX9TyO5Rw+qHQoJx+3rdif7lBz4",
   "provenance": []
  },
  "kernelspec": {
   "display_name": "Python 3",
   "name": "python3"
  },
  "language_info": {
   "codemirror_mode": {
    "name": "ipython",
    "version": 3
   },
   "file_extension": ".py",
   "mimetype": "text/x-python",
   "name": "python",
   "nbconvert_exporter": "python",
   "pygments_lexer": "ipython3",
   "version": "3.11.4"
  }
 },
 "nbformat": 4,
 "nbformat_minor": 0
}
