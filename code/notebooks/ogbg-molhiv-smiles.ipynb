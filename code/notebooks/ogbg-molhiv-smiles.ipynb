{
 "cells": [
  {
   "cell_type": "markdown",
   "metadata": {
    "id": "qmna4LA5mD78",
    "pycharm": {
     "name": "#%% md\n"
    }
   },
   "source": [
    "# ogbg-molhiv-smiles\n",
    "\n",
    "This notebook try to convert the `ogbg-molhiv` to the `smiles` formate of the graphs.\n",
    "\n",
    "Let's make it clear what is `smiles` and what is `ogbg-molhiv`.\n",
    "- `ogbg-molhiv`: It is a molecular graph dataset which is standardized for benchmarking the results on the graph formate of the molecular data.\n",
    "- `smiles`: It is the unique string representation of the molecules.\n",
    "\n",
    "Also, to be on the same page, our goal on this project is to do the classification task on the graph representation of the moleculs."
   ]
  },
  {
   "cell_type": "markdown",
   "metadata": {},
   "source": [
    "## Step 1: Download and Load the dataset\n",
    "\n",
    "Using `PygGraphPropPredDataset` class to download the dataset"
   ]
  },
  {
   "cell_type": "code",
   "execution_count": 1,
   "metadata": {
    "colab": {
     "base_uri": "https://localhost:8080/"
    },
    "executionInfo": {
     "elapsed": 14976,
     "status": "ok",
     "timestamp": 1702413926672,
     "user": {
      "displayName": "Mahsa Saadat",
      "userId": "12107327812096634515"
     },
     "user_tz": -210
    },
    "id": "bhO2FxiEmEW6",
    "outputId": "810c84be-87d3-482e-d2e2-0d53f8e41778",
    "pycharm": {
     "name": "#%%\n"
    }
   },
   "outputs": [],
   "source": [
    "from ogb.graphproppred import GraphPropPredDataset, PygGraphPropPredDataset\n",
    "\n",
    "dataset_name = 'ogbg-molhiv'\n",
    "dataset = PygGraphPropPredDataset(name=dataset_name, root='../dataset')"
   ]
  },
  {
   "cell_type": "markdown",
   "metadata": {},
   "source": [
    "### 1.1: Check Dataset Info\n",
    "Check basic dataset information using `PyG`"
   ]
  },
  {
   "cell_type": "code",
   "execution_count": 2,
   "metadata": {},
   "outputs": [
    {
     "name": "stdout",
     "output_type": "stream",
     "text": [
      "len(dataset): 41127 <- number of graphs\n",
      "dataset.num_classes: 2 <- number of labels for classes\n",
      "dataset.num_node_features: 9 <- number of features for each node of graphs\n",
      "dataset.num_edge_features: 3 <- number of features for each edge of graphs\n"
     ]
    }
   ],
   "source": [
    "print(f\"len(dataset): {len(dataset)} <- number of graphs\")\n",
    "print(f\"dataset.num_classes: {dataset.num_classes} <- number of labels for classes\")\n",
    "print(\n",
    "    f\"dataset.num_node_features: {dataset.num_node_features} <- number of features for each node of graphs\"\n",
    ")\n",
    "print(\n",
    "    f\"dataset.num_edge_features: {dataset.num_edge_features} <- number of features for each edge of graphs\"\n",
    ")"
   ]
  },
  {
   "cell_type": "markdown",
   "metadata": {},
   "source": [
    "### 1.2 Check Graph Info\n",
    "Check basic graph information using `PyG`"
   ]
  },
  {
   "cell_type": "code",
   "execution_count": 3,
   "metadata": {},
   "outputs": [
    {
     "name": "stdout",
     "output_type": "stream",
     "text": [
      "+--------------------------+----------------------------------------------------------------------------------+\n",
      "| Property                 | Value                                                                            |\n",
      "+==========================+==================================================================================+\n",
      "| Graph #                  | 0                                                                                |\n",
      "+--------------------------+----------------------------------------------------------------------------------+\n",
      "| Graph Object             | Data(edge_index=[2, 40], edge_attr=[40, 3], x=[19, 9], y=[1, 1], num_nodes=19)   |\n",
      "+--------------------------+----------------------------------------------------------------------------------+\n",
      "+--------------------------+----------------------------------------------------------------------------------+\n",
      "| graph.num_nodes          | 19                                                                               |\n",
      "+--------------------------+----------------------------------------------------------------------------------+\n",
      "| graph.num_edges          | 40                                                                               |\n",
      "+--------------------------+----------------------------------------------------------------------------------+\n",
      "| graph.has_isolated_nodes | False                                                                            |\n",
      "+--------------------------+----------------------------------------------------------------------------------+\n",
      "| graph.has_self_loops     | False                                                                            |\n",
      "+--------------------------+----------------------------------------------------------------------------------+\n",
      "| graph.is_directed        | False                                                                            |\n",
      "+--------------------------+----------------------------------------------------------------------------------+\n",
      "| graph.x.shape            | torch.Size([19, 9])                                                              |\n",
      "+--------------------------+----------------------------------------------------------------------------------+\n",
      "| graph.x                  | tensor([[ 5,  0,  4,  5,  3,  0,  2,  0,  0],                                    |\n",
      "|                          |         [ 5,  0,  4,  5,  2,  0,  2,  0,  0],                                    |\n",
      "|                          |         [ 5,  0,  3,  5,  0,  0,  1,  0,  1],                                    |\n",
      "|                          |         [ 7,  0,  2,  6,  0,  0,  1,  0,  1],                                    |\n",
      "|                          |         [28,  0,  4,  2,  0,  0,  5,  0,  1],                                    |\n",
      "|                          |         [ 7,  0,  2,  6,  0,  0,  1,  0,  1],                                    |\n",
      "|                          |         [ 5,  0,  3,  5,  0,  0,  1,  0,  1],                                    |\n",
      "|                          |         [ 5,  0,  4,  5,  2,  0,  2,  0,  0],                                    |\n",
      "|                          |         [ 5,  0,  4,  5,  3,  0,  2,  0,  0],                                    |\n",
      "|                          |         [ 5,  0,  4,  5,  2,  0,  2,  0,  1],                                    |\n",
      "|                          |         [ 7,  0,  2,  6,  0,  0,  1,  0,  1],                                    |\n",
      "|                          |         [ 5,  0,  3,  5,  0,  0,  1,  0,  1],                                    |\n",
      "|                          |         [ 5,  0,  4,  5,  2,  0,  2,  0,  0],                                    |\n",
      "|                          |         [ 5,  0,  4,  5,  3,  0,  2,  0,  0],                                    |\n",
      "|                          |         [ 5,  0,  4,  5,  2,  0,  2,  0,  1],                                    |\n",
      "|                          |         [ 5,  0,  3,  5,  0,  0,  1,  0,  1],                                    |\n",
      "|                          |         [ 5,  0,  4,  5,  2,  0,  2,  0,  0],                                    |\n",
      "|                          |         [ 5,  0,  4,  5,  3,  0,  2,  0,  0],                                    |\n",
      "|                          |         [ 7,  0,  2,  6,  0,  0,  1,  0,  1]])                                   |\n",
      "+--------------------------+----------------------------------------------------------------------------------+\n",
      "| graph.y.shape            | torch.Size([1, 1])                                                               |\n",
      "+--------------------------+----------------------------------------------------------------------------------+\n",
      "| graph.y                  | tensor([[0]])                                                                    |\n",
      "+--------------------------+----------------------------------------------------------------------------------+\n",
      "| graph.edge_attr.shape    | torch.Size([40, 3])                                                              |\n",
      "+--------------------------+----------------------------------------------------------------------------------+\n",
      "| graph.edge_attr          | tensor([[0, 0, 0],                                                               |\n",
      "|                          |         [0, 0, 0],                                                               |\n",
      "|                          |         [0, 0, 0],                                                               |\n",
      "|                          |         [0, 0, 0],                                                               |\n",
      "|                          |         [1, 0, 0],                                                               |\n",
      "|                          |         [1, 0, 0],                                                               |\n",
      "|                          |         [0, 0, 0],                                                               |\n",
      "|                          |         [0, 0, 0],                                                               |\n",
      "|                          |         [0, 0, 0],                                                               |\n",
      "|                          |         [0, 0, 0],                                                               |\n",
      "|                          |         [1, 0, 0],                                                               |\n",
      "|                          |         [1, 0, 0],                                                               |\n",
      "|                          |         [0, 0, 0],                                                               |\n",
      "|                          |         [0, 0, 0],                                                               |\n",
      "|                          |         [0, 0, 0],                                                               |\n",
      "|                          |         [0, 0, 0],                                                               |\n",
      "|                          |         [0, 0, 0],                                                               |\n",
      "|                          |         [0, 0, 0],                                                               |\n",
      "|                          |         [0, 0, 0],                                                               |\n",
      "|                          |         [0, 0, 0],                                                               |\n",
      "|                          |         [1, 0, 0],                                                               |\n",
      "|                          |         [1, 0, 0],                                                               |\n",
      "|                          |         [0, 0, 0],                                                               |\n",
      "|                          |         [0, 0, 0],                                                               |\n",
      "|                          |         [0, 0, 0],                                                               |\n",
      "|                          |         [0, 0, 0],                                                               |\n",
      "|                          |         [0, 0, 0],                                                               |\n",
      "|                          |         [0, 0, 0],                                                               |\n",
      "|                          |         [0, 0, 0],                                                               |\n",
      "|                          |         [0, 0, 0],                                                               |\n",
      "|                          |         [0, 0, 0],                                                               |\n",
      "|                          |         [0, 0, 0],                                                               |\n",
      "|                          |         [0, 0, 0],                                                               |\n",
      "|                          |         [0, 0, 0],                                                               |\n",
      "|                          |         [1, 0, 0],                                                               |\n",
      "|                          |         [1, 0, 0],                                                               |\n",
      "|                          |         [0, 0, 0],                                                               |\n",
      "|                          |         [0, 0, 0],                                                               |\n",
      "|                          |         [0, 0, 0],                                                               |\n",
      "|                          |         [0, 0, 0]])                                                              |\n",
      "+--------------------------+----------------------------------------------------------------------------------+\n",
      "| graph.edge_index.shape   | torch.Size([2, 40])                                                              |\n",
      "+--------------------------+----------------------------------------------------------------------------------+\n",
      "| graph.edge_index         | tensor([[ 0,  1,  1,  2,  2,  3,  3,  4,  4,  5,  5,  6,  6,  7,  7,  8,  6,  9, |\n",
      "|                          |           4, 10, 10, 11, 11, 12, 12, 13, 11, 14, 14, 15, 15, 16, 16, 17, 15, 18, |\n",
      "|                          |           9,  2, 18,  4],                                                        |\n",
      "|                          |         [ 1,  0,  2,  1,  3,  2,  4,  3,  5,  4,  6,  5,  7,  6,  8,  7,  9,  6, |\n",
      "|                          |          10,  4, 11, 10, 12, 11, 13, 12, 14, 11, 15, 14, 16, 15, 17, 16, 18, 15, |\n",
      "|                          |           2,  9,  4, 18]])                                                       |\n",
      "+--------------------------+----------------------------------------------------------------------------------+\n"
     ]
    }
   ],
   "source": [
    "from tabulate import tabulate\n",
    "from torch_geometric.data import Data\n",
    "\n",
    "graph_number = 0\n",
    "graph: Data = dataset[graph_number]\n",
    "\n",
    "table = [\n",
    "    [\"Graph #\", graph_number],\n",
    "    [\"Graph Object\", graph],\n",
    "    [\"\", \"\"],\n",
    "    [\"graph.num_nodes\", graph.num_nodes],\n",
    "    [\"graph.num_edges\", graph.num_edges],\n",
    "    [\"graph.has_isolated_nodes\", graph.has_isolated_nodes()],\n",
    "    [\"graph.has_self_loops\", graph.has_self_loops()],\n",
    "    [\"graph.is_directed\", graph.is_directed()],\n",
    "    [\"graph.x.shape\", graph.x.shape],\n",
    "    [\"graph.x\", graph.x],\n",
    "    [\"graph.y.shape\", graph.y.shape],\n",
    "    [\"graph.y\", graph.y],\n",
    "    [\"graph.edge_attr.shape\", graph.edge_attr.shape],\n",
    "    [\"graph.edge_attr\", graph.edge_attr],\n",
    "    [\"graph.edge_index.shape\", graph.edge_index.shape],\n",
    "    [\"graph.edge_index\", graph.edge_index],\n",
    "]\n",
    "\n",
    "print(tabulate(table, headers=[\"Property\", \"Value\"], tablefmt=\"grid\"))\n"
   ]
  },
  {
   "cell_type": "markdown",
   "metadata": {},
   "source": [
    "### 1.3 Dataset Scaffolded Split\n",
    "Using `PyG` scaffolded splited dataset we have pre-defined __train__, __validation__ and __test__ sub-datasets."
   ]
  },
  {
   "cell_type": "code",
   "execution_count": 4,
   "metadata": {},
   "outputs": [],
   "source": [
    "train_idxes = dataset.get_idx_split().get('train')\n",
    "valid_idxes = dataset.get_idx_split().get('valid')\n",
    "test_idxes = dataset.get_idx_split().get('test')\n",
    "train_pyg_graphs = [dataset[i] for i in train_idxes]\n",
    "valid_pyg_graphs = [dataset[i] for i in valid_idxes]\n",
    "test_pyg_graphs = [dataset[i] for i in test_idxes]"
   ]
  },
  {
   "cell_type": "code",
   "execution_count": 5,
   "metadata": {},
   "outputs": [
    {
     "name": "stdout",
     "output_type": "stream",
     "text": [
      "+------------+--------+--------------+\n",
      "| Dataset    |   Size | Percentage   |\n",
      "+============+========+==============+\n",
      "| Train      |  32901 | 80.00%       |\n",
      "+------------+--------+--------------+\n",
      "| Validation |   4113 | 10.00%       |\n",
      "+------------+--------+--------------+\n",
      "| Test       |   4113 | 10.00%       |\n",
      "+------------+--------+--------------+\n"
     ]
    }
   ],
   "source": [
    "total_size = len(train_pyg_graphs) + len(valid_pyg_graphs) + len(test_pyg_graphs)\n",
    "train_percentage = (len(train_pyg_graphs) / total_size) * 100\n",
    "valid_percentage = (len(valid_pyg_graphs) / total_size) * 100\n",
    "test_percentage = (len(test_pyg_graphs) / total_size) * 100\n",
    "\n",
    "table = [\n",
    "    [\"Dataset\", \"Size\", \"Percentage\"],\n",
    "    [\"Train\", len(train_pyg_graphs), f\"{train_percentage:.2f}%\"],\n",
    "    [\"Validation\", len(valid_pyg_graphs), f\"{valid_percentage:.2f}%\"],\n",
    "    [\"Test\", len(test_pyg_graphs), f\"{test_percentage:.2f}%\"]\n",
    "]\n",
    "\n",
    "print(tabulate(table, headers=\"firstrow\", tablefmt=\"grid\"))"
   ]
  },
  {
   "cell_type": "markdown",
   "metadata": {},
   "source": [
    "## Step 2: Convert `pyg` graphs to `networkx` graphs\n",
    "\n",
    "Using our helper function `pyg_to_networkx()`, we make also the `networkx` graphs version of the dataset. "
   ]
  },
  {
   "cell_type": "code",
   "execution_count": 6,
   "metadata": {},
   "outputs": [],
   "source": [
    "import sys\n",
    "sys.path.append('..')  # Add parent directory to Python path\n",
    "\n",
    "from utils.utils import pyg_to_networkx\n",
    "\n",
    "train_nx_graphs = [pyg_to_networkx(i) for i in train_pyg_graphs]\n",
    "valid_nx_graphs = [pyg_to_networkx(i) for i in valid_pyg_graphs]\n",
    "test_nx_graphs = [pyg_to_networkx(i) for i in test_pyg_graphs]"
   ]
  },
  {
   "cell_type": "markdown",
   "metadata": {},
   "source": [
    "## Step 3: Get `SMILES` version of graphs\n",
    "\n",
    "Using the secondary dataset, we get and concate the `SMILES` or string version of the graphs. "
   ]
  },
  {
   "cell_type": "code",
   "execution_count": 7,
   "metadata": {},
   "outputs": [
    {
     "name": "stderr",
     "output_type": "stream",
     "text": [
      " 85%|████████▍ | 34883/41127 [00:06<00:01, 5245.00it/s][17:41:57] WARNING: not removing hydrogen atom without neighbors\n",
      "[17:41:57] WARNING: not removing hydrogen atom without neighbors\n",
      "100%|██████████| 41127/41127 [00:07<00:00, 5471.52it/s]\n"
     ]
    }
   ],
   "source": [
    "from rdkit import Chem, RDConfig\n",
    "from rdkit.Chem import AllChem\n",
    "from rdkit import DataStructs\n",
    "from rdkit.Chem.rdmolops import GetAdjacencyMatrix\n",
    "from rdkit.Chem.Lipinski import *\n",
    "from rdkit.Chem.AtomPairs import Torsions, Pairs\n",
    "from rdkit.Chem import MACCSkeys \n",
    "from rdkit.Chem import rdMolDescriptors\n",
    "from rdkit.Chem import ChemicalFeatures\n",
    "from rdkit.Chem import MACCSkeys \n",
    "import numpy as np\n",
    "import pandas as pd\n",
    "pd.set_option('mode.chained_assignment', None)\n",
    "from tqdm import tqdm\n",
    "from ogb.graphproppred import GraphPropPredDataset\n",
    "from tqdm import tqdm\n",
    "\n",
    "smile_data = pd.read_csv(f\"../dataset/ogbg_molhiv/mapping/mol.csv.gz\".replace(\"-\", \"_\"))\n",
    "smile_data.drop([\"mol_id\"], axis = 1, inplace=True)\n",
    "mol = [Chem.MolFromSmiles(x) for x in tqdm(smile_data.smiles)]\n",
    "smile_data['mol'] = mol\n",
    "train_dataset = smile_data.iloc[train_idxes]\n",
    "train_dataset['nx_graph'] = train_nx_graphs\n",
    "train_dataset['pyg_graph'] = train_pyg_graphs\n",
    "train_dataset['num_nodes'] = train_dataset['pyg_graph'].apply(lambda pyg_graph: pyg_graph.num_nodes)\n",
    "train_dataset['num_edges'] = train_dataset['pyg_graph'].apply(lambda pyg_graph: pyg_graph.num_edges)\n",
    "valid_dataset = smile_data.iloc[valid_idxes]\n",
    "valid_dataset['nx_graph'] = valid_nx_graphs\n",
    "valid_dataset['pyg_graph'] = valid_pyg_graphs\n",
    "valid_dataset['num_nodes'] = valid_dataset['pyg_graph'].apply(lambda pyg_graph: pyg_graph.num_nodes)\n",
    "valid_dataset['num_edges'] = valid_dataset['pyg_graph'].apply(lambda pyg_graph: pyg_graph.num_edges)\n",
    "test_dataset = smile_data.iloc[test_idxes]\n",
    "test_dataset['nx_graph'] = test_nx_graphs\n",
    "test_dataset['pyg_graph'] = test_pyg_graphs\n",
    "test_dataset['num_nodes'] = test_dataset['pyg_graph'].apply(lambda pyg_graph: pyg_graph.num_nodes)\n",
    "test_dataset['num_edges'] = test_dataset['pyg_graph'].apply(lambda pyg_graph: pyg_graph.num_edges)\n"
   ]
  },
  {
   "cell_type": "code",
   "execution_count": 8,
   "metadata": {},
   "outputs": [
    {
     "data": {
      "text/html": [
       "<div>\n",
       "<style scoped>\n",
       "    .dataframe tbody tr th:only-of-type {\n",
       "        vertical-align: middle;\n",
       "    }\n",
       "\n",
       "    .dataframe tbody tr th {\n",
       "        vertical-align: top;\n",
       "    }\n",
       "\n",
       "    .dataframe thead th {\n",
       "        text-align: right;\n",
       "    }\n",
       "</style>\n",
       "<table border=\"1\" class=\"dataframe\">\n",
       "  <thead>\n",
       "    <tr style=\"text-align: right;\">\n",
       "      <th></th>\n",
       "      <th>HIV_active</th>\n",
       "      <th>smiles</th>\n",
       "      <th>mol</th>\n",
       "      <th>nx_graph</th>\n",
       "      <th>pyg_graph</th>\n",
       "      <th>num_nodes</th>\n",
       "      <th>num_edges</th>\n",
       "    </tr>\n",
       "  </thead>\n",
       "  <tbody>\n",
       "    <tr>\n",
       "      <th>3</th>\n",
       "      <td>0</td>\n",
       "      <td>Nc1ccc(C=Cc2ccc(N)cc2S(=O)(=O)O)c(S(=O)(=O)O)c1</td>\n",
       "      <td>&lt;rdkit.Chem.rdchem.Mol object at 0x0000025F120...</td>\n",
       "      <td>(0, 1, 2, 3, 4, 5, 6, 7, 8, 9, 10, 11, 12, 13,...</td>\n",
       "      <td>[(edge_index, [tensor([ 0,  1,  1,  2,  2,  3,...</td>\n",
       "      <td>24</td>\n",
       "      <td>50</td>\n",
       "    </tr>\n",
       "    <tr>\n",
       "      <th>4</th>\n",
       "      <td>0</td>\n",
       "      <td>O=S(=O)(O)CCS(=O)(=O)O</td>\n",
       "      <td>&lt;rdkit.Chem.rdchem.Mol object at 0x0000025F120...</td>\n",
       "      <td>(0, 1, 2, 3, 4, 5, 6, 7, 8, 9)</td>\n",
       "      <td>[(edge_index, [tensor([0, 1, 1, 2, 1, 3, 1, 4,...</td>\n",
       "      <td>10</td>\n",
       "      <td>18</td>\n",
       "    </tr>\n",
       "    <tr>\n",
       "      <th>5</th>\n",
       "      <td>0</td>\n",
       "      <td>CCOP(=O)(Nc1cccc(Cl)c1)OCC</td>\n",
       "      <td>&lt;rdkit.Chem.rdchem.Mol object at 0x0000025F120...</td>\n",
       "      <td>(0, 1, 2, 3, 4, 5, 6, 7, 8, 9, 10, 11, 12, 13,...</td>\n",
       "      <td>[(edge_index, [tensor([ 0,  1,  1,  2,  2,  3,...</td>\n",
       "      <td>16</td>\n",
       "      <td>32</td>\n",
       "    </tr>\n",
       "    <tr>\n",
       "      <th>6</th>\n",
       "      <td>0</td>\n",
       "      <td>O=C(O)c1ccccc1O</td>\n",
       "      <td>&lt;rdkit.Chem.rdchem.Mol object at 0x0000025F120...</td>\n",
       "      <td>(0, 1, 2, 3, 4, 5, 6, 7, 8, 9)</td>\n",
       "      <td>[(edge_index, [tensor([0, 1, 1, 2, 1, 3, 3, 4,...</td>\n",
       "      <td>10</td>\n",
       "      <td>20</td>\n",
       "    </tr>\n",
       "    <tr>\n",
       "      <th>8</th>\n",
       "      <td>0</td>\n",
       "      <td>O=[N+]([O-])c1ccc(SSc2ccc([N+](=O)[O-])cc2[N+]...</td>\n",
       "      <td>&lt;rdkit.Chem.rdchem.Mol object at 0x0000025F120...</td>\n",
       "      <td>(0, 1, 2, 3, 4, 5, 6, 7, 8, 9, 10, 11, 12, 13,...</td>\n",
       "      <td>[(edge_index, [tensor([ 0,  1,  1,  2,  1,  3,...</td>\n",
       "      <td>26</td>\n",
       "      <td>54</td>\n",
       "    </tr>\n",
       "  </tbody>\n",
       "</table>\n",
       "</div>"
      ],
      "text/plain": [
       "   HIV_active                                             smiles  \\\n",
       "3           0    Nc1ccc(C=Cc2ccc(N)cc2S(=O)(=O)O)c(S(=O)(=O)O)c1   \n",
       "4           0                             O=S(=O)(O)CCS(=O)(=O)O   \n",
       "5           0                         CCOP(=O)(Nc1cccc(Cl)c1)OCC   \n",
       "6           0                                    O=C(O)c1ccccc1O   \n",
       "8           0  O=[N+]([O-])c1ccc(SSc2ccc([N+](=O)[O-])cc2[N+]...   \n",
       "\n",
       "                                                 mol  \\\n",
       "3  <rdkit.Chem.rdchem.Mol object at 0x0000025F120...   \n",
       "4  <rdkit.Chem.rdchem.Mol object at 0x0000025F120...   \n",
       "5  <rdkit.Chem.rdchem.Mol object at 0x0000025F120...   \n",
       "6  <rdkit.Chem.rdchem.Mol object at 0x0000025F120...   \n",
       "8  <rdkit.Chem.rdchem.Mol object at 0x0000025F120...   \n",
       "\n",
       "                                            nx_graph  \\\n",
       "3  (0, 1, 2, 3, 4, 5, 6, 7, 8, 9, 10, 11, 12, 13,...   \n",
       "4                     (0, 1, 2, 3, 4, 5, 6, 7, 8, 9)   \n",
       "5  (0, 1, 2, 3, 4, 5, 6, 7, 8, 9, 10, 11, 12, 13,...   \n",
       "6                     (0, 1, 2, 3, 4, 5, 6, 7, 8, 9)   \n",
       "8  (0, 1, 2, 3, 4, 5, 6, 7, 8, 9, 10, 11, 12, 13,...   \n",
       "\n",
       "                                           pyg_graph  num_nodes  num_edges  \n",
       "3  [(edge_index, [tensor([ 0,  1,  1,  2,  2,  3,...         24         50  \n",
       "4  [(edge_index, [tensor([0, 1, 1, 2, 1, 3, 1, 4,...         10         18  \n",
       "5  [(edge_index, [tensor([ 0,  1,  1,  2,  2,  3,...         16         32  \n",
       "6  [(edge_index, [tensor([0, 1, 1, 2, 1, 3, 3, 4,...         10         20  \n",
       "8  [(edge_index, [tensor([ 0,  1,  1,  2,  1,  3,...         26         54  "
      ]
     },
     "execution_count": 8,
     "metadata": {},
     "output_type": "execute_result"
    }
   ],
   "source": [
    "train_dataset.head()"
   ]
  },
  {
   "cell_type": "markdown",
   "metadata": {},
   "source": [
    "There is good visualization of the `Molecules` in `rdkit` library."
   ]
  },
  {
   "cell_type": "code",
   "execution_count": 9,
   "metadata": {},
   "outputs": [
    {
     "data": {
      "image/png": "[encoded data removed]",
      "text/plain": [
       "<rdkit.Chem.rdchem.Mol at 0x25f120a6030>"
      ]
     },
     "execution_count": 9,
     "metadata": {},
     "output_type": "execute_result"
    }
   ],
   "source": [
    "train_dataset.iloc[0].mol"
   ]
  },
  {
   "cell_type": "markdown",
   "metadata": {},
   "source": [
    "## Step 4: Extract `Molecular` Features from the `SMILE` string\n",
    "\n",
    "### 4.1: Morgan Fingerprint\n"
   ]
  },
  {
   "cell_type": "code",
   "execution_count": 10,
   "metadata": {},
   "outputs": [],
   "source": [
    "def morgan_fp(mol):\n",
    "    return np.array(AllChem.GetMorganFingerprintAsBitVect(mol ,radius = 3, nBits=3*1024), dtype= np.int8)\n",
    "\n",
    "train_dataset['morgan_fp'] = train_dataset['mol'].apply(lambda mol: morgan_fp(mol))\n",
    "valid_dataset['morgan_fp'] = valid_dataset['mol'].apply(lambda mol: morgan_fp(mol))\n",
    "test_dataset['morgan_fp'] = test_dataset['mol'].apply(lambda mol: morgan_fp(mol))"
   ]
  },
  {
   "cell_type": "markdown",
   "metadata": {},
   "source": [
    "### 4.2: RDKit-FP"
   ]
  },
  {
   "cell_type": "code",
   "execution_count": 11,
   "metadata": {},
   "outputs": [],
   "source": [
    "def rdkit_fp(mol):\n",
    "    return np.array(Chem.RDKFingerprint(mol, maxPath = 5, bitInfo={}), dtype= np.int8)\n",
    "\n",
    "train_dataset['rdkit_fp'] = train_dataset['mol'].apply(lambda mol: rdkit_fp(mol))\n",
    "valid_dataset['rdkit_fp'] = valid_dataset['mol'].apply(lambda mol: rdkit_fp(mol))\n",
    "test_dataset['rdkit_fp'] = test_dataset['mol'].apply(lambda mol: rdkit_fp(mol))"
   ]
  },
  {
   "cell_type": "code",
   "execution_count": 13,
   "metadata": {},
   "outputs": [
    {
     "data": {
      "text/html": [
       "<div>\n",
       "<style scoped>\n",
       "    .dataframe tbody tr th:only-of-type {\n",
       "        vertical-align: middle;\n",
       "    }\n",
       "\n",
       "    .dataframe tbody tr th {\n",
       "        vertical-align: top;\n",
       "    }\n",
       "\n",
       "    .dataframe thead th {\n",
       "        text-align: right;\n",
       "    }\n",
       "</style>\n",
       "<table border=\"1\" class=\"dataframe\">\n",
       "  <thead>\n",
       "    <tr style=\"text-align: right;\">\n",
       "      <th></th>\n",
       "      <th>HIV_active</th>\n",
       "      <th>smiles</th>\n",
       "      <th>mol</th>\n",
       "      <th>nx_graph</th>\n",
       "      <th>pyg_graph</th>\n",
       "      <th>num_nodes</th>\n",
       "      <th>num_edges</th>\n",
       "      <th>morgan_fp</th>\n",
       "      <th>rdkit_fp</th>\n",
       "    </tr>\n",
       "  </thead>\n",
       "  <tbody>\n",
       "    <tr>\n",
       "      <th>3</th>\n",
       "      <td>0</td>\n",
       "      <td>Nc1ccc(C=Cc2ccc(N)cc2S(=O)(=O)O)c(S(=O)(=O)O)c1</td>\n",
       "      <td>&lt;rdkit.Chem.rdchem.Mol object at 0x0000025F120...</td>\n",
       "      <td>(0, 1, 2, 3, 4, 5, 6, 7, 8, 9, 10, 11, 12, 13,...</td>\n",
       "      <td>[(edge_index, [tensor([ 0,  1,  1,  2,  2,  3,...</td>\n",
       "      <td>24</td>\n",
       "      <td>50</td>\n",
       "      <td>[0, 0, 0, 0, 0, 0, 0, 0, 0, 0, 0, 0, 0, 0, 0, ...</td>\n",
       "      <td>[0, 0, 0, 0, 0, 0, 0, 0, 0, 0, 0, 0, 0, 0, 0, ...</td>\n",
       "    </tr>\n",
       "    <tr>\n",
       "      <th>4</th>\n",
       "      <td>0</td>\n",
       "      <td>O=S(=O)(O)CCS(=O)(=O)O</td>\n",
       "      <td>&lt;rdkit.Chem.rdchem.Mol object at 0x0000025F120...</td>\n",
       "      <td>(0, 1, 2, 3, 4, 5, 6, 7, 8, 9)</td>\n",
       "      <td>[(edge_index, [tensor([0, 1, 1, 2, 1, 3, 1, 4,...</td>\n",
       "      <td>10</td>\n",
       "      <td>18</td>\n",
       "      <td>[0, 0, 0, 0, 0, 0, 0, 0, 0, 0, 0, 0, 0, 0, 0, ...</td>\n",
       "      <td>[0, 0, 0, 0, 0, 0, 0, 0, 0, 0, 0, 0, 0, 0, 0, ...</td>\n",
       "    </tr>\n",
       "    <tr>\n",
       "      <th>5</th>\n",
       "      <td>0</td>\n",
       "      <td>CCOP(=O)(Nc1cccc(Cl)c1)OCC</td>\n",
       "      <td>&lt;rdkit.Chem.rdchem.Mol object at 0x0000025F120...</td>\n",
       "      <td>(0, 1, 2, 3, 4, 5, 6, 7, 8, 9, 10, 11, 12, 13,...</td>\n",
       "      <td>[(edge_index, [tensor([ 0,  1,  1,  2,  2,  3,...</td>\n",
       "      <td>16</td>\n",
       "      <td>32</td>\n",
       "      <td>[0, 0, 0, 0, 0, 0, 0, 0, 0, 0, 0, 0, 0, 0, 0, ...</td>\n",
       "      <td>[0, 0, 0, 0, 0, 0, 0, 0, 0, 0, 0, 0, 0, 0, 0, ...</td>\n",
       "    </tr>\n",
       "    <tr>\n",
       "      <th>6</th>\n",
       "      <td>0</td>\n",
       "      <td>O=C(O)c1ccccc1O</td>\n",
       "      <td>&lt;rdkit.Chem.rdchem.Mol object at 0x0000025F120...</td>\n",
       "      <td>(0, 1, 2, 3, 4, 5, 6, 7, 8, 9)</td>\n",
       "      <td>[(edge_index, [tensor([0, 1, 1, 2, 1, 3, 3, 4,...</td>\n",
       "      <td>10</td>\n",
       "      <td>20</td>\n",
       "      <td>[0, 0, 0, 0, 0, 0, 0, 0, 0, 0, 0, 0, 0, 0, 0, ...</td>\n",
       "      <td>[0, 0, 0, 0, 0, 0, 0, 0, 0, 0, 0, 0, 0, 0, 0, ...</td>\n",
       "    </tr>\n",
       "    <tr>\n",
       "      <th>8</th>\n",
       "      <td>0</td>\n",
       "      <td>O=[N+]([O-])c1ccc(SSc2ccc([N+](=O)[O-])cc2[N+]...</td>\n",
       "      <td>&lt;rdkit.Chem.rdchem.Mol object at 0x0000025F120...</td>\n",
       "      <td>(0, 1, 2, 3, 4, 5, 6, 7, 8, 9, 10, 11, 12, 13,...</td>\n",
       "      <td>[(edge_index, [tensor([ 0,  1,  1,  2,  1,  3,...</td>\n",
       "      <td>26</td>\n",
       "      <td>54</td>\n",
       "      <td>[0, 0, 0, 0, 0, 0, 0, 0, 0, 0, 0, 0, 0, 0, 0, ...</td>\n",
       "      <td>[0, 0, 0, 0, 0, 0, 0, 0, 0, 0, 0, 0, 0, 0, 0, ...</td>\n",
       "    </tr>\n",
       "  </tbody>\n",
       "</table>\n",
       "</div>"
      ],
      "text/plain": [
       "   HIV_active                                             smiles  \\\n",
       "3           0    Nc1ccc(C=Cc2ccc(N)cc2S(=O)(=O)O)c(S(=O)(=O)O)c1   \n",
       "4           0                             O=S(=O)(O)CCS(=O)(=O)O   \n",
       "5           0                         CCOP(=O)(Nc1cccc(Cl)c1)OCC   \n",
       "6           0                                    O=C(O)c1ccccc1O   \n",
       "8           0  O=[N+]([O-])c1ccc(SSc2ccc([N+](=O)[O-])cc2[N+]...   \n",
       "\n",
       "                                                 mol  \\\n",
       "3  <rdkit.Chem.rdchem.Mol object at 0x0000025F120...   \n",
       "4  <rdkit.Chem.rdchem.Mol object at 0x0000025F120...   \n",
       "5  <rdkit.Chem.rdchem.Mol object at 0x0000025F120...   \n",
       "6  <rdkit.Chem.rdchem.Mol object at 0x0000025F120...   \n",
       "8  <rdkit.Chem.rdchem.Mol object at 0x0000025F120...   \n",
       "\n",
       "                                            nx_graph  \\\n",
       "3  (0, 1, 2, 3, 4, 5, 6, 7, 8, 9, 10, 11, 12, 13,...   \n",
       "4                     (0, 1, 2, 3, 4, 5, 6, 7, 8, 9)   \n",
       "5  (0, 1, 2, 3, 4, 5, 6, 7, 8, 9, 10, 11, 12, 13,...   \n",
       "6                     (0, 1, 2, 3, 4, 5, 6, 7, 8, 9)   \n",
       "8  (0, 1, 2, 3, 4, 5, 6, 7, 8, 9, 10, 11, 12, 13,...   \n",
       "\n",
       "                                           pyg_graph  num_nodes  num_edges  \\\n",
       "3  [(edge_index, [tensor([ 0,  1,  1,  2,  2,  3,...         24         50   \n",
       "4  [(edge_index, [tensor([0, 1, 1, 2, 1, 3, 1, 4,...         10         18   \n",
       "5  [(edge_index, [tensor([ 0,  1,  1,  2,  2,  3,...         16         32   \n",
       "6  [(edge_index, [tensor([0, 1, 1, 2, 1, 3, 3, 4,...         10         20   \n",
       "8  [(edge_index, [tensor([ 0,  1,  1,  2,  1,  3,...         26         54   \n",
       "\n",
       "                                           morgan_fp  \\\n",
       "3  [0, 0, 0, 0, 0, 0, 0, 0, 0, 0, 0, 0, 0, 0, 0, ...   \n",
       "4  [0, 0, 0, 0, 0, 0, 0, 0, 0, 0, 0, 0, 0, 0, 0, ...   \n",
       "5  [0, 0, 0, 0, 0, 0, 0, 0, 0, 0, 0, 0, 0, 0, 0, ...   \n",
       "6  [0, 0, 0, 0, 0, 0, 0, 0, 0, 0, 0, 0, 0, 0, 0, ...   \n",
       "8  [0, 0, 0, 0, 0, 0, 0, 0, 0, 0, 0, 0, 0, 0, 0, ...   \n",
       "\n",
       "                                            rdkit_fp  \n",
       "3  [0, 0, 0, 0, 0, 0, 0, 0, 0, 0, 0, 0, 0, 0, 0, ...  \n",
       "4  [0, 0, 0, 0, 0, 0, 0, 0, 0, 0, 0, 0, 0, 0, 0, ...  \n",
       "5  [0, 0, 0, 0, 0, 0, 0, 0, 0, 0, 0, 0, 0, 0, 0, ...  \n",
       "6  [0, 0, 0, 0, 0, 0, 0, 0, 0, 0, 0, 0, 0, 0, 0, ...  \n",
       "8  [0, 0, 0, 0, 0, 0, 0, 0, 0, 0, 0, 0, 0, 0, 0, ...  "
      ]
     },
     "execution_count": 13,
     "metadata": {},
     "output_type": "execute_result"
    }
   ],
   "source": [
    "train_dataset.head()"
   ]
  },
  {
   "cell_type": "code",
   "execution_count": null,
   "metadata": {},
   "outputs": [],
   "source": []
  }
 ],
 "metadata": {
  "colab": {
   "authorship_tag": "ABX9TyO5Rw+qHQoJx+3rdif7lBz4",
   "provenance": []
  },
  "kernelspec": {
   "display_name": "Python 3",
   "name": "python3"
  },
  "language_info": {
   "codemirror_mode": {
    "name": "ipython",
    "version": 3
   },
   "file_extension": ".py",
   "mimetype": "text/x-python",
   "name": "python",
   "nbconvert_exporter": "python",
   "pygments_lexer": "ipython3",
   "version": "3.10.6"
  }
 },
 "nbformat": 4,
 "nbformat_minor": 0
}
