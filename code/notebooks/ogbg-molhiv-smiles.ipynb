{
 "cells": [
  {
   "cell_type": "markdown",
   "metadata": {
    "id": "qmna4LA5mD78",
    "pycharm": {
     "name": "#%% md\n"
    }
   },
   "source": [
    "# ogbg-molhiv-smiles\n",
    "\n",
    "This notebook try to convert the `ogbg-molhiv` to the `smiles` formate of the graphs.\n",
    "\n",
    "Let's make it clear what is `smiles` and what is `ogbg-molhiv`.\n",
    "- `ogbg-molhiv`: It is a molecular graph dataset which is standardized for benchmarking the results on the graph formate of the molecular data.\n",
    "- `smiles`: It is the unique string representation of the molecules.\n",
    "\n",
    "Also, to be on the same page, our goal on this project is to do the classification task on the graph representation of the moleculs."
   ]
  },
  {
   "cell_type": "markdown",
   "metadata": {},
   "source": [
    "## Step 1: Download and Load the dataset\n",
    "\n",
    "Using `PygGraphPropPredDataset` class to download the dataset"
   ]
  },
  {
   "cell_type": "code",
   "execution_count": 1,
   "metadata": {
    "colab": {
     "base_uri": "https://localhost:8080/"
    },
    "executionInfo": {
     "elapsed": 14976,
     "status": "ok",
     "timestamp": 1702413926672,
     "user": {
      "displayName": "Mahsa Saadat",
      "userId": "12107327812096634515"
     },
     "user_tz": -210
    },
    "id": "bhO2FxiEmEW6",
    "outputId": "810c84be-87d3-482e-d2e2-0d53f8e41778",
    "pycharm": {
     "name": "#%%\n"
    }
   },
   "outputs": [],
   "source": [
    "from ogb.graphproppred import GraphPropPredDataset, PygGraphPropPredDataset\n",
    "\n",
    "dataset_name = 'ogbg-molhiv'\n",
    "dataset = PygGraphPropPredDataset(name=dataset_name, root='../dataset')"
   ]
  },
  {
   "cell_type": "markdown",
   "metadata": {},
   "source": [
    "### 1.1: Check Dataset Info\n",
    "Check basic dataset information using `PyG`"
   ]
  },
  {
   "cell_type": "code",
   "execution_count": 2,
   "metadata": {},
   "outputs": [
    {
     "name": "stdout",
     "output_type": "stream",
     "text": [
      "len(dataset): 41127 <- number of graphs\n",
      "dataset.num_classes: 2 <- number of labels for classes\n",
      "dataset.num_node_features: 9 <- number of features for each node of graphs\n",
      "dataset.num_edge_features: 3 <- number of features for each edge of graphs\n"
     ]
    }
   ],
   "source": [
    "print(f\"len(dataset): {len(dataset)} <- number of graphs\")\n",
    "print(f\"dataset.num_classes: {dataset.num_classes} <- number of labels for classes\")\n",
    "print(\n",
    "    f\"dataset.num_node_features: {dataset.num_node_features} <- number of features for each node of graphs\"\n",
    ")\n",
    "print(\n",
    "    f\"dataset.num_edge_features: {dataset.num_edge_features} <- number of features for each edge of graphs\"\n",
    ")"
   ]
  },
  {
   "cell_type": "markdown",
   "metadata": {},
   "source": [
    "#### Edge Features: from the documention on the [ogbg-molhiv code](https://github.com/snap-stanford/ogb/blob/f631af76359c9687b2fe60905557bbb241916258/ogb/utils/features.py#L20C4-L35C50), we found the following description for the edge features.\n",
    "\n",
    "- `possible_bond_type_list`: Bond type between two atoms or nodes\n",
    "    - `SINGLE` bond: A single bond is a covalent bond in which two atoms share one pair of electrons. It's represented by a single line (-) between the atoms.\n",
    "    - `DOUBLE` bond: A double bond is a covalent bond in which two pairs of electrons are shared between two atoms. It's represented by a double line (=) between the atoms.\n",
    "    - `TRIPLE` bond: A triple bond is a covalent bond in which three pairs of electrons are shared between two atoms. It's represented by a triple line (≡) between the atoms.\n",
    "    - `AROMATIC` bond: An aromatic bond is a special type of bond found in molecules with aromatic rings, such as benzene. These bonds exhibit resonance and delocalization of electrons, leading to enhanced stability of the molecule. Aromatic bonds are typically represented by a circle inside a hexagon.\n",
    "    - Miscellaneous (`misc`) bond: This category might include various other types of bonds that don't fit neatly into the above categories. It could encompass unconventional or less common bond types, such as coordinate bonds or bonds involving transition metals, among others.\n",
    "- `possible_bond_stereo_list`: Bond stereochemistry refers to the spatial arrangement of atoms or groups around a particular bond in a molecule. It's concerned with how different substituents or atoms are positioned relative to each other in three-dimensional space. This spatial arrangement can have significant effects on the properties and behavior of molecules, especially in terms of their reactivity and biological activity.\n",
    "\n",
    "    - `STEREONONE`: This term indicates that there is no specific stereochemistry associated with the bond. It means that the atoms or groups attached to the bond do not have a defined spatial arrangement relative to each other. In other words, the molecule does not exhibit any stereochemical properties at that particular bond.\n",
    "\n",
    "    - `STEREOZ`: This term refers to a type of bond stereochemistry where the higher priority substituents are on the same side of the bond. The \"Z\" notation comes from the German word \"zusammen,\" meaning \"together.\" It is also known as cis configuration.\n",
    "\n",
    "    - `STEREOE`: This term refers to a type of bond stereochemistry where the higher priority substituents are on opposite sides of the bond. The \"E\" notation comes from the German word \"entgegen,\" meaning \"opposite.\" It is also known as trans configuration.\n",
    "\n",
    "    - `STEREOCIS`: This term specifically describes a cis configuration where the higher priority substituents are on the same side of the bond. It indicates a specific geometric arrangement where the substituents are closer together.\n",
    "\n",
    "    - `STEREOTRANS`: This term specifically describes a trans configuration where the higher priority substituents are on opposite sides of the bond. It indicates a specific geometric arrangement where the substituents are farther apart.\n",
    "\n",
    "    - `STEREOANY`: This term indicates that the bond can have any stereochemical configuration. It means that the molecule is not restricted to a specific arrangement of substituents around the bond, and various stereochemical configurations are possible.\n",
    "- `possible_is_conjugated_list`: Absorptive of light\n",
    "    - `False`\n",
    "    - `True`"
   ]
  },
  {
   "cell_type": "markdown",
   "metadata": {},
   "source": [
    "### 1.2 Check Graph Info\n",
    "Check basic graph information using `PyG`"
   ]
  },
  {
   "cell_type": "code",
   "execution_count": 3,
   "metadata": {},
   "outputs": [
    {
     "name": "stdout",
     "output_type": "stream",
     "text": [
      "+--------------------------+----------------------------------------------------------------------------------+\n",
      "| Property                 | Value                                                                            |\n",
      "+==========================+==================================================================================+\n",
      "| Graph #                  | 0                                                                                |\n",
      "+--------------------------+----------------------------------------------------------------------------------+\n",
      "| Graph Object             | Data(edge_index=[2, 40], edge_attr=[40, 3], x=[19, 9], y=[1, 1], num_nodes=19)   |\n",
      "+--------------------------+----------------------------------------------------------------------------------+\n",
      "+--------------------------+----------------------------------------------------------------------------------+\n",
      "| graph.num_nodes          | 19                                                                               |\n",
      "+--------------------------+----------------------------------------------------------------------------------+\n",
      "| graph.num_edges          | 40                                                                               |\n",
      "+--------------------------+----------------------------------------------------------------------------------+\n",
      "| graph.has_isolated_nodes | False                                                                            |\n",
      "+--------------------------+----------------------------------------------------------------------------------+\n",
      "| graph.has_self_loops     | False                                                                            |\n",
      "+--------------------------+----------------------------------------------------------------------------------+\n",
      "| graph.is_directed        | False                                                                            |\n",
      "+--------------------------+----------------------------------------------------------------------------------+\n",
      "| graph.x.shape            | torch.Size([19, 9])                                                              |\n",
      "+--------------------------+----------------------------------------------------------------------------------+\n",
      "| graph.x                  | tensor([[ 5,  0,  4,  5,  3,  0,  2,  0,  0],                                    |\n",
      "|                          |         [ 5,  0,  4,  5,  2,  0,  2,  0,  0],                                    |\n",
      "|                          |         [ 5,  0,  3,  5,  0,  0,  1,  0,  1],                                    |\n",
      "|                          |         [ 7,  0,  2,  6,  0,  0,  1,  0,  1],                                    |\n",
      "|                          |         [28,  0,  4,  2,  0,  0,  5,  0,  1],                                    |\n",
      "|                          |         [ 7,  0,  2,  6,  0,  0,  1,  0,  1],                                    |\n",
      "|                          |         [ 5,  0,  3,  5,  0,  0,  1,  0,  1],                                    |\n",
      "|                          |         [ 5,  0,  4,  5,  2,  0,  2,  0,  0],                                    |\n",
      "|                          |         [ 5,  0,  4,  5,  3,  0,  2,  0,  0],                                    |\n",
      "|                          |         [ 5,  0,  4,  5,  2,  0,  2,  0,  1],                                    |\n",
      "|                          |         [ 7,  0,  2,  6,  0,  0,  1,  0,  1],                                    |\n",
      "|                          |         [ 5,  0,  3,  5,  0,  0,  1,  0,  1],                                    |\n",
      "|                          |         [ 5,  0,  4,  5,  2,  0,  2,  0,  0],                                    |\n",
      "|                          |         [ 5,  0,  4,  5,  3,  0,  2,  0,  0],                                    |\n",
      "|                          |         [ 5,  0,  4,  5,  2,  0,  2,  0,  1],                                    |\n",
      "|                          |         [ 5,  0,  3,  5,  0,  0,  1,  0,  1],                                    |\n",
      "|                          |         [ 5,  0,  4,  5,  2,  0,  2,  0,  0],                                    |\n",
      "|                          |         [ 5,  0,  4,  5,  3,  0,  2,  0,  0],                                    |\n",
      "|                          |         [ 7,  0,  2,  6,  0,  0,  1,  0,  1]])                                   |\n",
      "+--------------------------+----------------------------------------------------------------------------------+\n",
      "| graph.y.shape            | torch.Size([1, 1])                                                               |\n",
      "+--------------------------+----------------------------------------------------------------------------------+\n",
      "| graph.y                  | tensor([[0]])                                                                    |\n",
      "+--------------------------+----------------------------------------------------------------------------------+\n",
      "| graph.edge_attr.shape    | torch.Size([40, 3])                                                              |\n",
      "+--------------------------+----------------------------------------------------------------------------------+\n",
      "| graph.edge_attr          | tensor([[0, 0, 0],                                                               |\n",
      "|                          |         [0, 0, 0],                                                               |\n",
      "|                          |         [0, 0, 0],                                                               |\n",
      "|                          |         [0, 0, 0],                                                               |\n",
      "|                          |         [1, 0, 0],                                                               |\n",
      "|                          |         [1, 0, 0],                                                               |\n",
      "|                          |         [0, 0, 0],                                                               |\n",
      "|                          |         [0, 0, 0],                                                               |\n",
      "|                          |         [0, 0, 0],                                                               |\n",
      "|                          |         [0, 0, 0],                                                               |\n",
      "|                          |         [1, 0, 0],                                                               |\n",
      "|                          |         [1, 0, 0],                                                               |\n",
      "|                          |         [0, 0, 0],                                                               |\n",
      "|                          |         [0, 0, 0],                                                               |\n",
      "|                          |         [0, 0, 0],                                                               |\n",
      "|                          |         [0, 0, 0],                                                               |\n",
      "|                          |         [0, 0, 0],                                                               |\n",
      "|                          |         [0, 0, 0],                                                               |\n",
      "|                          |         [0, 0, 0],                                                               |\n",
      "|                          |         [0, 0, 0],                                                               |\n",
      "|                          |         [1, 0, 0],                                                               |\n",
      "|                          |         [1, 0, 0],                                                               |\n",
      "|                          |         [0, 0, 0],                                                               |\n",
      "|                          |         [0, 0, 0],                                                               |\n",
      "|                          |         [0, 0, 0],                                                               |\n",
      "|                          |         [0, 0, 0],                                                               |\n",
      "|                          |         [0, 0, 0],                                                               |\n",
      "|                          |         [0, 0, 0],                                                               |\n",
      "|                          |         [0, 0, 0],                                                               |\n",
      "|                          |         [0, 0, 0],                                                               |\n",
      "|                          |         [0, 0, 0],                                                               |\n",
      "|                          |         [0, 0, 0],                                                               |\n",
      "|                          |         [0, 0, 0],                                                               |\n",
      "|                          |         [0, 0, 0],                                                               |\n",
      "|                          |         [1, 0, 0],                                                               |\n",
      "|                          |         [1, 0, 0],                                                               |\n",
      "|                          |         [0, 0, 0],                                                               |\n",
      "|                          |         [0, 0, 0],                                                               |\n",
      "|                          |         [0, 0, 0],                                                               |\n",
      "|                          |         [0, 0, 0]])                                                              |\n",
      "+--------------------------+----------------------------------------------------------------------------------+\n",
      "| graph.edge_index.shape   | torch.Size([2, 40])                                                              |\n",
      "+--------------------------+----------------------------------------------------------------------------------+\n",
      "| graph.edge_index         | tensor([[ 0,  1,  1,  2,  2,  3,  3,  4,  4,  5,  5,  6,  6,  7,  7,  8,  6,  9, |\n",
      "|                          |           4, 10, 10, 11, 11, 12, 12, 13, 11, 14, 14, 15, 15, 16, 16, 17, 15, 18, |\n",
      "|                          |           9,  2, 18,  4],                                                        |\n",
      "|                          |         [ 1,  0,  2,  1,  3,  2,  4,  3,  5,  4,  6,  5,  7,  6,  8,  7,  9,  6, |\n",
      "|                          |          10,  4, 11, 10, 12, 11, 13, 12, 14, 11, 15, 14, 16, 15, 17, 16, 18, 15, |\n",
      "|                          |           2,  9,  4, 18]])                                                       |\n",
      "+--------------------------+----------------------------------------------------------------------------------+\n"
     ]
    }
   ],
   "source": [
    "from tabulate import tabulate\n",
    "from torch_geometric.data import Data\n",
    "\n",
    "graph_number = 0\n",
    "graph: Data = dataset[graph_number]\n",
    "\n",
    "table = [\n",
    "    [\"Graph #\", graph_number],\n",
    "    [\"Graph Object\", graph],\n",
    "    [\"\", \"\"],\n",
    "    [\"graph.num_nodes\", graph.num_nodes],\n",
    "    [\"graph.num_edges\", graph.num_edges],\n",
    "    [\"graph.has_isolated_nodes\", graph.has_isolated_nodes()],\n",
    "    [\"graph.has_self_loops\", graph.has_self_loops()],\n",
    "    [\"graph.is_directed\", graph.is_directed()],\n",
    "    [\"graph.x.shape\", graph.x.shape],\n",
    "    [\"graph.x\", graph.x],\n",
    "    [\"graph.y.shape\", graph.y.shape],\n",
    "    [\"graph.y\", graph.y],\n",
    "    [\"graph.edge_attr.shape\", graph.edge_attr.shape],\n",
    "    [\"graph.edge_attr\", graph.edge_attr],\n",
    "    [\"graph.edge_index.shape\", graph.edge_index.shape],\n",
    "    [\"graph.edge_index\", graph.edge_index],\n",
    "]\n",
    "\n",
    "print(tabulate(table, headers=[\"Property\", \"Value\"], tablefmt=\"grid\"))\n"
   ]
  },
  {
   "cell_type": "markdown",
   "metadata": {},
   "source": [
    "### 1.3 Dataset Scaffolded Split\n",
    "Using `PyG` scaffolded splited dataset we have pre-defined __train__, __validation__ and __test__ sub-datasets."
   ]
  },
  {
   "cell_type": "code",
   "execution_count": 4,
   "metadata": {},
   "outputs": [],
   "source": [
    "train_idxes = dataset.get_idx_split().get('train')\n",
    "valid_idxes = dataset.get_idx_split().get('valid')\n",
    "test_idxes = dataset.get_idx_split().get('test')\n",
    "train_pyg_graphs = [dataset[i] for i in train_idxes]\n",
    "valid_pyg_graphs = [dataset[i] for i in valid_idxes]\n",
    "test_pyg_graphs = [dataset[i] for i in test_idxes]"
   ]
  },
  {
   "cell_type": "code",
   "execution_count": 5,
   "metadata": {},
   "outputs": [
    {
     "name": "stdout",
     "output_type": "stream",
     "text": [
      "+------------+--------+--------------+\n",
      "| Dataset    |   Size | Percentage   |\n",
      "+============+========+==============+\n",
      "| Train      |  32901 | 80.00%       |\n",
      "+------------+--------+--------------+\n",
      "| Validation |   4113 | 10.00%       |\n",
      "+------------+--------+--------------+\n",
      "| Test       |   4113 | 10.00%       |\n",
      "+------------+--------+--------------+\n"
     ]
    }
   ],
   "source": [
    "total_size = len(train_pyg_graphs) + len(valid_pyg_graphs) + len(test_pyg_graphs)\n",
    "train_percentage = (len(train_pyg_graphs) / total_size) * 100\n",
    "valid_percentage = (len(valid_pyg_graphs) / total_size) * 100\n",
    "test_percentage = (len(test_pyg_graphs) / total_size) * 100\n",
    "\n",
    "table = [\n",
    "    [\"Dataset\", \"Size\", \"Percentage\"],\n",
    "    [\"Train\", len(train_pyg_graphs), f\"{train_percentage:.2f}%\"],\n",
    "    [\"Validation\", len(valid_pyg_graphs), f\"{valid_percentage:.2f}%\"],\n",
    "    [\"Test\", len(test_pyg_graphs), f\"{test_percentage:.2f}%\"]\n",
    "]\n",
    "\n",
    "print(tabulate(table, headers=\"firstrow\", tablefmt=\"grid\"))"
   ]
  },
  {
   "cell_type": "markdown",
   "metadata": {},
   "source": [
    "## Step 2: Convert `pyg` graphs to `networkx` graphs\n",
    "\n",
    "Using our helper function `pyg_to_networkx()`, we make also the `networkx` graphs version of the dataset. "
   ]
  },
  {
   "cell_type": "code",
   "execution_count": 6,
   "metadata": {},
   "outputs": [],
   "source": [
    "import sys\n",
    "sys.path.append('..')  # Add parent directory to Python path\n",
    "\n",
    "from utils.utils import pyg_to_networkx\n",
    "\n",
    "train_nx_graphs = [pyg_to_networkx(i) for i in train_pyg_graphs]\n",
    "valid_nx_graphs = [pyg_to_networkx(i) for i in valid_pyg_graphs]\n",
    "test_nx_graphs = [pyg_to_networkx(i) for i in test_pyg_graphs]"
   ]
  },
  {
   "cell_type": "markdown",
   "metadata": {},
   "source": [
    "## Step 3: Get `SMILES` version of graphs\n",
    "\n",
    "Using the secondary dataset, we get and concate the `SMILES` or string version of the graphs. "
   ]
  },
  {
   "cell_type": "code",
   "execution_count": 7,
   "metadata": {},
   "outputs": [
    {
     "name": "stderr",
     "output_type": "stream",
     "text": [
      " 85%|████████▌ | 35041/41127 [00:04<00:00, 7537.75it/s][17:52:49] WARNING: not removing hydrogen atom without neighbors\n",
      "[17:52:49] WARNING: not removing hydrogen atom without neighbors\n",
      "100%|██████████| 41127/41127 [00:05<00:00, 7730.85it/s]\n"
     ]
    }
   ],
   "source": [
    "from rdkit import Chem, RDConfig\n",
    "from rdkit.Chem import AllChem\n",
    "from rdkit import DataStructs\n",
    "from rdkit.Chem.rdmolops import GetAdjacencyMatrix\n",
    "from rdkit.Chem.Lipinski import *\n",
    "from rdkit.Chem.AtomPairs import Torsions, Pairs\n",
    "from rdkit.Chem import MACCSkeys \n",
    "from rdkit.Chem import rdMolDescriptors\n",
    "from rdkit.Chem import ChemicalFeatures\n",
    "from rdkit.Chem import MACCSkeys \n",
    "import numpy as np\n",
    "import pandas as pd\n",
    "pd.set_option('mode.chained_assignment', None)\n",
    "from tqdm import tqdm\n",
    "from ogb.graphproppred import GraphPropPredDataset\n",
    "from tqdm import tqdm\n",
    "\n",
    "smile_data = pd.read_csv(f\"../dataset/ogbg_molhiv/mapping/mol.csv.gz\".replace(\"-\", \"_\"))\n",
    "smile_data.drop([\"mol_id\"], axis = 1, inplace=True)\n",
    "mol = [Chem.MolFromSmiles(x) for x in tqdm(smile_data.smiles)]\n",
    "smile_data['mol'] = mol\n",
    "train_dataset = smile_data.iloc[train_idxes]\n",
    "train_dataset['nx_graph'] = train_nx_graphs\n",
    "train_dataset['pyg_graph'] = train_pyg_graphs\n",
    "train_dataset['num_nodes'] = train_dataset['pyg_graph'].apply(lambda pyg_graph: pyg_graph.num_nodes)\n",
    "train_dataset['num_edges'] = train_dataset['pyg_graph'].apply(lambda pyg_graph: pyg_graph.num_edges)\n",
    "valid_dataset = smile_data.iloc[valid_idxes]\n",
    "valid_dataset['nx_graph'] = valid_nx_graphs\n",
    "valid_dataset['pyg_graph'] = valid_pyg_graphs\n",
    "valid_dataset['num_nodes'] = valid_dataset['pyg_graph'].apply(lambda pyg_graph: pyg_graph.num_nodes)\n",
    "valid_dataset['num_edges'] = valid_dataset['pyg_graph'].apply(lambda pyg_graph: pyg_graph.num_edges)\n",
    "test_dataset = smile_data.iloc[test_idxes]\n",
    "test_dataset['nx_graph'] = test_nx_graphs\n",
    "test_dataset['pyg_graph'] = test_pyg_graphs\n",
    "test_dataset['num_nodes'] = test_dataset['pyg_graph'].apply(lambda pyg_graph: pyg_graph.num_nodes)\n",
    "test_dataset['num_edges'] = test_dataset['pyg_graph'].apply(lambda pyg_graph: pyg_graph.num_edges)\n"
   ]
  },
  {
   "cell_type": "code",
   "execution_count": 8,
   "metadata": {},
   "outputs": [
    {
     "data": {
      "text/html": [
       "<div>\n",
       "<style scoped>\n",
       "    .dataframe tbody tr th:only-of-type {\n",
       "        vertical-align: middle;\n",
       "    }\n",
       "\n",
       "    .dataframe tbody tr th {\n",
       "        vertical-align: top;\n",
       "    }\n",
       "\n",
       "    .dataframe thead th {\n",
       "        text-align: right;\n",
       "    }\n",
       "</style>\n",
       "<table border=\"1\" class=\"dataframe\">\n",
       "  <thead>\n",
       "    <tr style=\"text-align: right;\">\n",
       "      <th></th>\n",
       "      <th>HIV_active</th>\n",
       "      <th>smiles</th>\n",
       "      <th>mol</th>\n",
       "      <th>nx_graph</th>\n",
       "      <th>pyg_graph</th>\n",
       "      <th>num_nodes</th>\n",
       "      <th>num_edges</th>\n",
       "    </tr>\n",
       "  </thead>\n",
       "  <tbody>\n",
       "    <tr>\n",
       "      <th>3</th>\n",
       "      <td>0</td>\n",
       "      <td>Nc1ccc(C=Cc2ccc(N)cc2S(=O)(=O)O)c(S(=O)(=O)O)c1</td>\n",
       "      <td>&lt;rdkit.Chem.rdchem.Mol object at 0x000002D32F7...</td>\n",
       "      <td>(0, 1, 2, 3, 4, 5, 6, 7, 8, 9, 10, 11, 12, 13,...</td>\n",
       "      <td>[(edge_index, [tensor([ 0,  1,  1,  2,  2,  3,...</td>\n",
       "      <td>24</td>\n",
       "      <td>50</td>\n",
       "    </tr>\n",
       "    <tr>\n",
       "      <th>4</th>\n",
       "      <td>0</td>\n",
       "      <td>O=S(=O)(O)CCS(=O)(=O)O</td>\n",
       "      <td>&lt;rdkit.Chem.rdchem.Mol object at 0x000002D32F7...</td>\n",
       "      <td>(0, 1, 2, 3, 4, 5, 6, 7, 8, 9)</td>\n",
       "      <td>[(edge_index, [tensor([0, 1, 1, 2, 1, 3, 1, 4,...</td>\n",
       "      <td>10</td>\n",
       "      <td>18</td>\n",
       "    </tr>\n",
       "    <tr>\n",
       "      <th>5</th>\n",
       "      <td>0</td>\n",
       "      <td>CCOP(=O)(Nc1cccc(Cl)c1)OCC</td>\n",
       "      <td>&lt;rdkit.Chem.rdchem.Mol object at 0x000002D32F7...</td>\n",
       "      <td>(0, 1, 2, 3, 4, 5, 6, 7, 8, 9, 10, 11, 12, 13,...</td>\n",
       "      <td>[(edge_index, [tensor([ 0,  1,  1,  2,  2,  3,...</td>\n",
       "      <td>16</td>\n",
       "      <td>32</td>\n",
       "    </tr>\n",
       "    <tr>\n",
       "      <th>6</th>\n",
       "      <td>0</td>\n",
       "      <td>O=C(O)c1ccccc1O</td>\n",
       "      <td>&lt;rdkit.Chem.rdchem.Mol object at 0x000002D32F7...</td>\n",
       "      <td>(0, 1, 2, 3, 4, 5, 6, 7, 8, 9)</td>\n",
       "      <td>[(edge_index, [tensor([0, 1, 1, 2, 1, 3, 3, 4,...</td>\n",
       "      <td>10</td>\n",
       "      <td>20</td>\n",
       "    </tr>\n",
       "    <tr>\n",
       "      <th>8</th>\n",
       "      <td>0</td>\n",
       "      <td>O=[N+]([O-])c1ccc(SSc2ccc([N+](=O)[O-])cc2[N+]...</td>\n",
       "      <td>&lt;rdkit.Chem.rdchem.Mol object at 0x000002D32F7...</td>\n",
       "      <td>(0, 1, 2, 3, 4, 5, 6, 7, 8, 9, 10, 11, 12, 13,...</td>\n",
       "      <td>[(edge_index, [tensor([ 0,  1,  1,  2,  1,  3,...</td>\n",
       "      <td>26</td>\n",
       "      <td>54</td>\n",
       "    </tr>\n",
       "  </tbody>\n",
       "</table>\n",
       "</div>"
      ],
      "text/plain": [
       "   HIV_active                                             smiles  \\\n",
       "3           0    Nc1ccc(C=Cc2ccc(N)cc2S(=O)(=O)O)c(S(=O)(=O)O)c1   \n",
       "4           0                             O=S(=O)(O)CCS(=O)(=O)O   \n",
       "5           0                         CCOP(=O)(Nc1cccc(Cl)c1)OCC   \n",
       "6           0                                    O=C(O)c1ccccc1O   \n",
       "8           0  O=[N+]([O-])c1ccc(SSc2ccc([N+](=O)[O-])cc2[N+]...   \n",
       "\n",
       "                                                 mol  \\\n",
       "3  <rdkit.Chem.rdchem.Mol object at 0x000002D32F7...   \n",
       "4  <rdkit.Chem.rdchem.Mol object at 0x000002D32F7...   \n",
       "5  <rdkit.Chem.rdchem.Mol object at 0x000002D32F7...   \n",
       "6  <rdkit.Chem.rdchem.Mol object at 0x000002D32F7...   \n",
       "8  <rdkit.Chem.rdchem.Mol object at 0x000002D32F7...   \n",
       "\n",
       "                                            nx_graph  \\\n",
       "3  (0, 1, 2, 3, 4, 5, 6, 7, 8, 9, 10, 11, 12, 13,...   \n",
       "4                     (0, 1, 2, 3, 4, 5, 6, 7, 8, 9)   \n",
       "5  (0, 1, 2, 3, 4, 5, 6, 7, 8, 9, 10, 11, 12, 13,...   \n",
       "6                     (0, 1, 2, 3, 4, 5, 6, 7, 8, 9)   \n",
       "8  (0, 1, 2, 3, 4, 5, 6, 7, 8, 9, 10, 11, 12, 13,...   \n",
       "\n",
       "                                           pyg_graph  num_nodes  num_edges  \n",
       "3  [(edge_index, [tensor([ 0,  1,  1,  2,  2,  3,...         24         50  \n",
       "4  [(edge_index, [tensor([0, 1, 1, 2, 1, 3, 1, 4,...         10         18  \n",
       "5  [(edge_index, [tensor([ 0,  1,  1,  2,  2,  3,...         16         32  \n",
       "6  [(edge_index, [tensor([0, 1, 1, 2, 1, 3, 3, 4,...         10         20  \n",
       "8  [(edge_index, [tensor([ 0,  1,  1,  2,  1,  3,...         26         54  "
      ]
     },
     "execution_count": 8,
     "metadata": {},
     "output_type": "execute_result"
    }
   ],
   "source": [
    "train_dataset.head()"
   ]
  },
  {
   "cell_type": "markdown",
   "metadata": {},
   "source": [
    "There is good visualization of the `Molecules` in `rdkit` library."
   ]
  },
  {
   "cell_type": "code",
   "execution_count": 9,
   "metadata": {},
   "outputs": [
    {
     "data": {
      "image/png": "[encoded data removed]",
      "text/plain": [
       "<rdkit.Chem.rdchem.Mol at 0x2d32f7f00b0>"
      ]
     },
     "execution_count": 9,
     "metadata": {},
     "output_type": "execute_result"
    }
   ],
   "source": [
    "train_dataset.iloc[0].mol"
   ]
  },
  {
   "cell_type": "markdown",
   "metadata": {},
   "source": [
    "## Step 4: Extract `Molecular` Features from the `SMILE` string\n",
    "\n",
    "### 4.1: Morgan Fingerprint\n"
   ]
  },
  {
   "cell_type": "code",
   "execution_count": 10,
   "metadata": {},
   "outputs": [],
   "source": [
    "def morgan_fp(mol):\n",
    "    return np.array(AllChem.GetMorganFingerprintAsBitVect(mol ,radius = 3, nBits=3*1024), dtype= np.int8)\n",
    "\n",
    "train_dataset['morgan_fp'] = train_dataset['mol'].apply(lambda mol: morgan_fp(mol))\n",
    "valid_dataset['morgan_fp'] = valid_dataset['mol'].apply(lambda mol: morgan_fp(mol))\n",
    "test_dataset['morgan_fp'] = test_dataset['mol'].apply(lambda mol: morgan_fp(mol))"
   ]
  },
  {
   "cell_type": "markdown",
   "metadata": {},
   "source": [
    "### 4.2: RDKit-FP"
   ]
  },
  {
   "cell_type": "code",
   "execution_count": 11,
   "metadata": {},
   "outputs": [],
   "source": [
    "def rdkit_fp(mol):\n",
    "    return np.array(Chem.RDKFingerprint(mol, maxPath = 5, bitInfo={}), dtype= np.int8)\n",
    "\n",
    "train_dataset['rdkit_fp'] = train_dataset['mol'].apply(lambda mol: rdkit_fp(mol))\n",
    "valid_dataset['rdkit_fp'] = valid_dataset['mol'].apply(lambda mol: rdkit_fp(mol))\n",
    "test_dataset['rdkit_fp'] = test_dataset['mol'].apply(lambda mol: rdkit_fp(mol))"
   ]
  },
  {
   "cell_type": "code",
   "execution_count": 12,
   "metadata": {},
   "outputs": [
    {
     "data": {
      "text/html": [
       "<div>\n",
       "<style scoped>\n",
       "    .dataframe tbody tr th:only-of-type {\n",
       "        vertical-align: middle;\n",
       "    }\n",
       "\n",
       "    .dataframe tbody tr th {\n",
       "        vertical-align: top;\n",
       "    }\n",
       "\n",
       "    .dataframe thead th {\n",
       "        text-align: right;\n",
       "    }\n",
       "</style>\n",
       "<table border=\"1\" class=\"dataframe\">\n",
       "  <thead>\n",
       "    <tr style=\"text-align: right;\">\n",
       "      <th></th>\n",
       "      <th>HIV_active</th>\n",
       "      <th>smiles</th>\n",
       "      <th>mol</th>\n",
       "      <th>nx_graph</th>\n",
       "      <th>pyg_graph</th>\n",
       "      <th>num_nodes</th>\n",
       "      <th>num_edges</th>\n",
       "      <th>morgan_fp</th>\n",
       "      <th>rdkit_fp</th>\n",
       "    </tr>\n",
       "  </thead>\n",
       "  <tbody>\n",
       "    <tr>\n",
       "      <th>3</th>\n",
       "      <td>0</td>\n",
       "      <td>Nc1ccc(C=Cc2ccc(N)cc2S(=O)(=O)O)c(S(=O)(=O)O)c1</td>\n",
       "      <td>&lt;rdkit.Chem.rdchem.Mol object at 0x000002D32F7...</td>\n",
       "      <td>(0, 1, 2, 3, 4, 5, 6, 7, 8, 9, 10, 11, 12, 13,...</td>\n",
       "      <td>[(edge_index, [tensor([ 0,  1,  1,  2,  2,  3,...</td>\n",
       "      <td>24</td>\n",
       "      <td>50</td>\n",
       "      <td>[0, 0, 0, 0, 0, 0, 0, 0, 0, 0, 0, 0, 0, 0, 0, ...</td>\n",
       "      <td>[0, 0, 0, 0, 0, 0, 0, 0, 0, 0, 0, 0, 0, 0, 0, ...</td>\n",
       "    </tr>\n",
       "    <tr>\n",
       "      <th>4</th>\n",
       "      <td>0</td>\n",
       "      <td>O=S(=O)(O)CCS(=O)(=O)O</td>\n",
       "      <td>&lt;rdkit.Chem.rdchem.Mol object at 0x000002D32F7...</td>\n",
       "      <td>(0, 1, 2, 3, 4, 5, 6, 7, 8, 9)</td>\n",
       "      <td>[(edge_index, [tensor([0, 1, 1, 2, 1, 3, 1, 4,...</td>\n",
       "      <td>10</td>\n",
       "      <td>18</td>\n",
       "      <td>[0, 0, 0, 0, 0, 0, 0, 0, 0, 0, 0, 0, 0, 0, 0, ...</td>\n",
       "      <td>[0, 0, 0, 0, 0, 0, 0, 0, 0, 0, 0, 0, 0, 0, 0, ...</td>\n",
       "    </tr>\n",
       "    <tr>\n",
       "      <th>5</th>\n",
       "      <td>0</td>\n",
       "      <td>CCOP(=O)(Nc1cccc(Cl)c1)OCC</td>\n",
       "      <td>&lt;rdkit.Chem.rdchem.Mol object at 0x000002D32F7...</td>\n",
       "      <td>(0, 1, 2, 3, 4, 5, 6, 7, 8, 9, 10, 11, 12, 13,...</td>\n",
       "      <td>[(edge_index, [tensor([ 0,  1,  1,  2,  2,  3,...</td>\n",
       "      <td>16</td>\n",
       "      <td>32</td>\n",
       "      <td>[0, 0, 0, 0, 0, 0, 0, 0, 0, 0, 0, 0, 0, 0, 0, ...</td>\n",
       "      <td>[0, 0, 0, 0, 0, 0, 0, 0, 0, 0, 0, 0, 0, 0, 0, ...</td>\n",
       "    </tr>\n",
       "    <tr>\n",
       "      <th>6</th>\n",
       "      <td>0</td>\n",
       "      <td>O=C(O)c1ccccc1O</td>\n",
       "      <td>&lt;rdkit.Chem.rdchem.Mol object at 0x000002D32F7...</td>\n",
       "      <td>(0, 1, 2, 3, 4, 5, 6, 7, 8, 9)</td>\n",
       "      <td>[(edge_index, [tensor([0, 1, 1, 2, 1, 3, 3, 4,...</td>\n",
       "      <td>10</td>\n",
       "      <td>20</td>\n",
       "      <td>[0, 0, 0, 0, 0, 0, 0, 0, 0, 0, 0, 0, 0, 0, 0, ...</td>\n",
       "      <td>[0, 0, 0, 0, 0, 0, 0, 0, 0, 0, 0, 0, 0, 0, 0, ...</td>\n",
       "    </tr>\n",
       "    <tr>\n",
       "      <th>8</th>\n",
       "      <td>0</td>\n",
       "      <td>O=[N+]([O-])c1ccc(SSc2ccc([N+](=O)[O-])cc2[N+]...</td>\n",
       "      <td>&lt;rdkit.Chem.rdchem.Mol object at 0x000002D32F7...</td>\n",
       "      <td>(0, 1, 2, 3, 4, 5, 6, 7, 8, 9, 10, 11, 12, 13,...</td>\n",
       "      <td>[(edge_index, [tensor([ 0,  1,  1,  2,  1,  3,...</td>\n",
       "      <td>26</td>\n",
       "      <td>54</td>\n",
       "      <td>[0, 0, 0, 0, 0, 0, 0, 0, 0, 0, 0, 0, 0, 0, 0, ...</td>\n",
       "      <td>[0, 0, 0, 0, 0, 0, 0, 0, 0, 0, 0, 0, 0, 0, 0, ...</td>\n",
       "    </tr>\n",
       "  </tbody>\n",
       "</table>\n",
       "</div>"
      ],
      "text/plain": [
       "   HIV_active                                             smiles  \\\n",
       "3           0    Nc1ccc(C=Cc2ccc(N)cc2S(=O)(=O)O)c(S(=O)(=O)O)c1   \n",
       "4           0                             O=S(=O)(O)CCS(=O)(=O)O   \n",
       "5           0                         CCOP(=O)(Nc1cccc(Cl)c1)OCC   \n",
       "6           0                                    O=C(O)c1ccccc1O   \n",
       "8           0  O=[N+]([O-])c1ccc(SSc2ccc([N+](=O)[O-])cc2[N+]...   \n",
       "\n",
       "                                                 mol  \\\n",
       "3  <rdkit.Chem.rdchem.Mol object at 0x000002D32F7...   \n",
       "4  <rdkit.Chem.rdchem.Mol object at 0x000002D32F7...   \n",
       "5  <rdkit.Chem.rdchem.Mol object at 0x000002D32F7...   \n",
       "6  <rdkit.Chem.rdchem.Mol object at 0x000002D32F7...   \n",
       "8  <rdkit.Chem.rdchem.Mol object at 0x000002D32F7...   \n",
       "\n",
       "                                            nx_graph  \\\n",
       "3  (0, 1, 2, 3, 4, 5, 6, 7, 8, 9, 10, 11, 12, 13,...   \n",
       "4                     (0, 1, 2, 3, 4, 5, 6, 7, 8, 9)   \n",
       "5  (0, 1, 2, 3, 4, 5, 6, 7, 8, 9, 10, 11, 12, 13,...   \n",
       "6                     (0, 1, 2, 3, 4, 5, 6, 7, 8, 9)   \n",
       "8  (0, 1, 2, 3, 4, 5, 6, 7, 8, 9, 10, 11, 12, 13,...   \n",
       "\n",
       "                                           pyg_graph  num_nodes  num_edges  \\\n",
       "3  [(edge_index, [tensor([ 0,  1,  1,  2,  2,  3,...         24         50   \n",
       "4  [(edge_index, [tensor([0, 1, 1, 2, 1, 3, 1, 4,...         10         18   \n",
       "5  [(edge_index, [tensor([ 0,  1,  1,  2,  2,  3,...         16         32   \n",
       "6  [(edge_index, [tensor([0, 1, 1, 2, 1, 3, 3, 4,...         10         20   \n",
       "8  [(edge_index, [tensor([ 0,  1,  1,  2,  1,  3,...         26         54   \n",
       "\n",
       "                                           morgan_fp  \\\n",
       "3  [0, 0, 0, 0, 0, 0, 0, 0, 0, 0, 0, 0, 0, 0, 0, ...   \n",
       "4  [0, 0, 0, 0, 0, 0, 0, 0, 0, 0, 0, 0, 0, 0, 0, ...   \n",
       "5  [0, 0, 0, 0, 0, 0, 0, 0, 0, 0, 0, 0, 0, 0, 0, ...   \n",
       "6  [0, 0, 0, 0, 0, 0, 0, 0, 0, 0, 0, 0, 0, 0, 0, ...   \n",
       "8  [0, 0, 0, 0, 0, 0, 0, 0, 0, 0, 0, 0, 0, 0, 0, ...   \n",
       "\n",
       "                                            rdkit_fp  \n",
       "3  [0, 0, 0, 0, 0, 0, 0, 0, 0, 0, 0, 0, 0, 0, 0, ...  \n",
       "4  [0, 0, 0, 0, 0, 0, 0, 0, 0, 0, 0, 0, 0, 0, 0, ...  \n",
       "5  [0, 0, 0, 0, 0, 0, 0, 0, 0, 0, 0, 0, 0, 0, 0, ...  \n",
       "6  [0, 0, 0, 0, 0, 0, 0, 0, 0, 0, 0, 0, 0, 0, 0, ...  \n",
       "8  [0, 0, 0, 0, 0, 0, 0, 0, 0, 0, 0, 0, 0, 0, 0, ...  "
      ]
     },
     "execution_count": 12,
     "metadata": {},
     "output_type": "execute_result"
    }
   ],
   "source": [
    "train_dataset.head()"
   ]
  },
  {
   "cell_type": "markdown",
   "metadata": {},
   "source": [
    "## 5: EDA"
   ]
  },
  {
   "cell_type": "code",
   "execution_count": 13,
   "metadata": {},
   "outputs": [
    {
     "name": "stdout",
     "output_type": "stream",
     "text": [
      "32901\n"
     ]
    },
    {
     "data": {
      "image/png": "[encoded data removed]",
      "text/plain": [
       "<Figure size 640x480 with 1 Axes>"
      ]
     },
     "metadata": {},
     "output_type": "display_data"
    }
   ],
   "source": [
    "import matplotlib.pyplot as plt\n",
    "\n",
    "# Add this line to display plots inline\n",
    "%matplotlib inline\n",
    "\n",
    "print(len(train_dataset['HIV_active']))\n",
    "\n",
    "# Plot the number of occurrences for each class\n",
    "class_counts = train_dataset['HIV_active'].value_counts()\n",
    "ax = class_counts.plot(kind='bar', rot=0, color='skyblue')\n",
    "\n",
    "# Annotate each bar with its percentage\n",
    "total = len(train_dataset['HIV_active'])\n",
    "for i, count in enumerate(class_counts):\n",
    "    percentage = count / total * 100\n",
    "    plt.text(i, count / 2, f'{percentage:.2f}%', ha='center', va='center')\n",
    "\n",
    "plt.title('Number of Occurrences for Each Class in Training Dataset')\n",
    "plt.xlabel('HIV_active')\n",
    "plt.ylabel('Count')\n",
    "plt.show()"
   ]
  },
  {
   "cell_type": "code",
   "execution_count": 14,
   "metadata": {},
   "outputs": [
    {
     "name": "stdout",
     "output_type": "stream",
     "text": [
      "32735\n",
      "31638\n"
     ]
    }
   ],
   "source": [
    "for column in ['morgan_fp','rdkit_fp']:\n",
    "    print(len(train_dataset[column].apply(lambda x: tuple(x) if isinstance(x, np.ndarray) else x).unique()))"
   ]
  },
  {
   "cell_type": "code",
   "execution_count": 15,
   "metadata": {},
   "outputs": [
    {
     "data": {
      "text/plain": [
       "41127"
      ]
     },
     "execution_count": 15,
     "metadata": {},
     "output_type": "execute_result"
    }
   ],
   "source": [
    "train_dataset['morgan_fp'].shape[0] + valid_dataset['morgan_fp'].shape[0] + test_dataset['morgan_fp'].shape[0]"
   ]
  },
  {
   "cell_type": "code",
   "execution_count": 16,
   "metadata": {},
   "outputs": [
    {
     "data": {
      "text/plain": [
       "(3072,)"
      ]
     },
     "execution_count": 16,
     "metadata": {},
     "output_type": "execute_result"
    }
   ],
   "source": [
    "train_dataset['morgan_fp'][3].shape"
   ]
  },
  {
   "cell_type": "markdown",
   "metadata": {},
   "source": [
    "## 5: RF & XGBoost"
   ]
  },
  {
   "cell_type": "markdown",
   "metadata": {},
   "source": [
    "Here are some key features of BalancedRandomForestClassifier:\n",
    "\n",
    "Balanced Sampling: It automatically balances the class distribution by performing balanced bootstrapping during the construction of each tree in the forest. This ensures that each tree is trained on a balanced subset of the data, with equal representation of both classes.\n",
    "\n",
    "Class Weighting: It assigns weights to the classes inversely proportional to their frequencies. This helps in penalizing the misclassification of minority class samples more heavily, thereby improving the classifier's performance on imbalanced datasets.\n",
    "\n",
    "Threshold Adjustment: It adjusts the decision threshold to achieve better trade-offs between precision and recall, which is crucial in imbalanced classification where the class distribution is skewed."
   ]
  },
  {
   "cell_type": "code",
   "execution_count": 27,
   "metadata": {},
   "outputs": [],
   "source": [
    "from sklearn.ensemble import RandomForestClassifier\n",
    "from sklearn.metrics import accuracy_score, classification_report, confusion_matrix\n",
    "from sklearn.model_selection import StratifiedKFold\n",
    "from imblearn.over_sampling import RandomOverSampler, SMOTE\n",
    "from imblearn.under_sampling import RandomUnderSampler\n",
    "from imblearn.ensemble import BalancedRandomForestClassifier\n",
    "from imblearn.combine import SMOTEENN\n",
    "from sklearn.model_selection import GridSearchCV\n",
    "from sklearn.metrics import make_scorer, roc_auc_score\n",
    "from ogb.graphproppred import Evaluator\n",
    "from xgboost import XGBClassifier\n",
    "from tabulate import tabulate\n",
    "from sklearn.ensemble import AdaBoostClassifier\n",
    "from sklearn.tree import DecisionTreeClassifier\n",
    "\n",
    "import seaborn as sns\n",
    "\n",
    "def customRandomForest(train_dataset, valid_dataset, test_dataset, feature_column, tag_column, param_grid, \n",
    "                       mode='randomForest', sample_method=\"None\", sampling_strategy=\"auto\", cV=5, random_state=42):\n",
    "    '''\n",
    "    input: train_dataset, valid_dataset, test_dataset as dataframes\n",
    "    feature_column, tag_column, param_grid, 'randomForest'/'xGBoost/b_randomForest/AdaBoostClassifier', cv, random_state\n",
    "    sample_method=\"None\", \"overSample\", \"underSample\", \"hybrid\", \"smote\"\n",
    "\n",
    "    rf example:\n",
    "    param_grid = {\n",
    "        'n_estimators': [50, 100, 200],\n",
    "        'max_depth': [None, 10, 20],\n",
    "        'min_samples_split': [2, 5, 10],\n",
    "        'min_samples_leaf': [1, 5, 10],\n",
    "        'class_weight': ['balanced']\n",
    "    }\n",
    "\n",
    "    xgb example:\n",
    "    param_grid = {\n",
    "    'n_estimators': [50, 100, 200],\n",
    "    'max_depth': [3, 5, 7],\n",
    "    'learning_rate': [0.01, 0.1, 0.2],\n",
    "    'subsample': [0.8, 1.0],\n",
    "    'colsample_bytree': [0.8, 1.0],\n",
    "    }\n",
    "\n",
    "    ada boost example:\n",
    "\n",
    "    param_grid = {\n",
    "        'base_estimator__max_depth': [1, 2, 3],\n",
    "        'n_estimators': [50, 100, 200],\n",
    "        'learning_rate': [0.1, 0.5, 1.0],\n",
    "        'algorithm': ['SAMME', 'SAMME.R']\n",
    "    } \n",
    "    '''\n",
    "    def prepare_data(train_dataset, valid_dataset, test_dataset, feature_column, tag_column, sample_method, sampling_strategy):\n",
    "\n",
    "        # Separate features and target\n",
    "        X_train = np.vstack(train_dataset[feature_column].values)\n",
    "        y_train = train_dataset[tag_column].values\n",
    "\n",
    "        X_valid = np.vstack(valid_dataset[feature_column].values)\n",
    "        y_valid = valid_dataset[tag_column].values\n",
    "\n",
    "        X_test = np.vstack(test_dataset[feature_column].values)\n",
    "        y_test = test_dataset[tag_column].values\n",
    "\n",
    "        # Define sampling strategies\n",
    "        over_sampler = RandomOverSampler(sampling_strategy= sampling_strategy)\n",
    "        under_sampler = RandomUnderSampler(sampling_strategy= sampling_strategy)\n",
    "        smoteenn = SMOTEENN(sampling_strategy= sampling_strategy)\n",
    "        smote = SMOTE(sampling_strategy= sampling_strategy)\n",
    "\n",
    "        print(f'Applying sample method: {sample_method}')\n",
    "\n",
    "        print(\"------------------------------------------------\")\n",
    "        print(f'X_valid shape: {X_valid.shape}')\n",
    "        print(f'y_valid shape: {y_valid.shape}')\n",
    "        print(f'X_test shape: {X_test.shape}')\n",
    "        print(f'y_test shape: {y_test.shape}')\n",
    "\n",
    "        if sample_method == \"overSample\":\n",
    "            X_train_over, y_train_over = over_sampler.fit_resample(X_train, y_train)\n",
    "            print(f'X_train shape: {X_train_over.shape}')\n",
    "            print(f'y_train shape: {y_train_over.shape}')\n",
    "            print(\"Sampling done.\")\n",
    "            print(\"------------------------------------------------\")\n",
    "\n",
    "            return X_train_over, y_train_over, X_valid, y_valid, X_test, y_test\n",
    "        \n",
    "        if sample_method == \"smote\":\n",
    "            X_train_smote, y_train_smote = smote.fit_resample(X_train, y_train)\n",
    "            print(f'X_train shape: {X_train_smote.shape}')\n",
    "            print(f'y_train shape: {y_train_smote.shape}')\n",
    "            print(\"Sampling done.\")\n",
    "            print(\"------------------------------------------------\")\n",
    "\n",
    "            return X_train_smote, y_train_smote, X_valid, y_valid, X_test, y_test\n",
    "        \n",
    "        elif sample_method == \"underSample\":\n",
    "            X_train_under, y_train_under = under_sampler.fit_resample(X_train, y_train)\n",
    "            print(f'X_train shape: {X_train_under.shape}')\n",
    "            print(f'y_train shape: {y_train_under.shape}')\n",
    "            print(\"Sampling done.\")\n",
    "            print(\"------------------------------------------------\")\n",
    "            return X_train_under, y_train_under, X_valid, y_valid, X_test, y_test\n",
    "        \n",
    "        elif sample_method == \"hybrid\":\n",
    "            X_train_smoteenn, y_train_smoteenn = smoteenn.fit_resample(X_train, y_train)\n",
    "            print(f'X_train shape: {X_train_smoteenn.shape}')\n",
    "            print(f'y_train shape: {y_train_smoteenn.shape}')\n",
    "            print(\"Sampling done.\")\n",
    "            print(\"------------------------------------------------\")\n",
    "            return X_train_smoteenn, y_train_smoteenn, X_valid, y_valid, X_test, y_test\n",
    "        \n",
    "        else:\n",
    "            print(f'X_train shape: {X_train.shape}')\n",
    "            print(f'y_train shape: {y_train.shape}')\n",
    "            print(\"Sampling done.\")\n",
    "            print(\"------------------------------------------------\")\n",
    "            return X_train, y_train, X_valid, y_valid, X_test, y_test\n",
    "        \n",
    "    \n",
    "    def create_classification_report_table(report):\n",
    "        lines = report.split('\\n')\n",
    "        header = ['Class', 'Precision', 'Recall', 'F1-score', 'Support']\n",
    "        data = []\n",
    "        for line in lines[2:-3]:\n",
    "            t = line.strip().split()\n",
    "            if len(t) == 5:\n",
    "                data.append([t[0], t[1], t[2], t[3], t[4]])\n",
    "        return tabulate(data, headers=header, tablefmt='grid')\n",
    "    \n",
    "    \n",
    "    def plot_confusion_matrix(conf_matrix, title='Confusion Matrix', cmap=plt.cm.Blues):\n",
    "        plt.figure(figsize=(8, 6))\n",
    "        sns.heatmap(conf_matrix, annot=True, fmt='d', cmap=cmap)\n",
    "        plt.title(title)\n",
    "        plt.xlabel('Predicted labels')\n",
    "        plt.ylabel('True labels')\n",
    "        plt.show()\n",
    "    \n",
    "    def predict(best_model, X_valid, y_valid, X_test, y_test):\n",
    "\n",
    "        evaluator = Evaluator(name = \"ogbg-molhiv\")\n",
    "\n",
    "        print(\"Evaluating the model with validation dataset:\")\n",
    "\n",
    "        # Make predictions on the test set using the best model\n",
    "        y_pred_valid = best_model.predict(X_valid)\n",
    "\n",
    "        print(f'Accuracy on validation: {accuracy_score(y_valid, y_pred_valid)}')\n",
    "        plot_confusion_matrix(confusion_matrix(y_valid, y_pred_valid))\n",
    "        print(f'classification erport for validation dataset:')\n",
    "        print(create_classification_report_table(classification_report(y_valid, y_pred_valid)))\n",
    "\n",
    "        y_hat_valid = best_model.predict_proba(X_valid)[:,1]\n",
    "        y_valid = np.array(y_valid)\n",
    "        input_dict_val = {\"y_true\":y_valid.reshape(y_valid.shape[0],1),\"y_pred\":y_hat_valid.reshape(y_hat_valid.shape[0],1)}\n",
    "        result_dict_valid = evaluator.eval(input_dict_val)[dataset.eval_metric]\n",
    "         \n",
    "        print(f'Best rocauc found on validation dataset using the params:\\n{result_dict_valid}')\n",
    "        print(\"#########################################################\")\n",
    "\n",
    "        #############################################################################################################\n",
    "\n",
    "        print(\"Evaluating the model with test dataset:\")\n",
    "\n",
    "        # Make predictions on the test set using the best model\n",
    "        y_pred_test = best_model.predict(X_test)\n",
    "\n",
    "        print(f'Accuracy on test: {accuracy_score(y_test, y_pred_test)}')\n",
    "        plot_confusion_matrix(confusion_matrix(y_test, y_pred_test))\n",
    "        print(f'classification report on test dataset:')\n",
    "        print(create_classification_report_table(classification_report(y_test, y_pred_test)))\n",
    "\n",
    "        y_hat_test = best_model.predict_proba(X_test)[:,1]\n",
    "        y_test = np.array(y_test)\n",
    "        input_dict = {\"y_true\":y_test.reshape(y_test.shape[0],1),\"y_pred\":y_hat_test.reshape(y_hat_test.shape[0],1)}\n",
    "        result_dict_test = evaluator.eval(input_dict)[dataset.eval_metric]\n",
    "        print(f'Best rocauc found on test dataset using the params:\\n{result_dict_test}')\n",
    "        \n",
    "    X_train, y_train, X_valid, y_valid, X_test, y_test= prepare_data(train_dataset, valid_dataset, test_dataset, \n",
    "                                                                     feature_column, tag_column, sample_method, sampling_strategy)\n",
    "\n",
    "    if mode == 'randomForest':\n",
    "        # Create a RandomForestClassifier\n",
    "        print(\"RandomForest model selected...\")\n",
    "        classifier = RandomForestClassifier(random_state=random_state)\n",
    "\n",
    "    elif mode == 'b_randomForest':\n",
    "        print(\"balanced randomForest model selected...\")\n",
    "        # Create randomForest classifier\n",
    "        classifier = BalancedRandomForestClassifier(random_state=random_state)\n",
    "\n",
    "    elif mode == 'xGBoost':\n",
    "        print(\"xGBoost model selected...\")\n",
    "        # Create XGBoost classifier\n",
    "        classifier = XGBClassifier(random_state=random_state)\n",
    "\n",
    "    elif mode == 'AdaBoostClassifier':\n",
    "        print(\"AdaBoostClassifier model selected...\")\n",
    "        # Create AdaBoostClassifier classifier\n",
    "        # Define the base estimator (weak learner)\n",
    "        estimator = DecisionTreeClassifier(max_depth=1)\n",
    "\n",
    "        # Instantiate AdaBoostClassifier\n",
    "        classifier = AdaBoostClassifier(estimator=estimator, random_state=random_state)\n",
    "\n",
    "    # Define the F1 score as the scoring metric for the grid search\n",
    "    scorer = make_scorer(roc_auc_score, greater_is_better=True)\n",
    "\n",
    "    # Create GridSearchCV object\n",
    "    print(f\"Creating the GSCV with params: {param_grid} and cv: {cV}\")\n",
    "    grid_search = GridSearchCV(estimator=classifier, param_grid=param_grid, scoring=scorer, cv=StratifiedKFold(n_splits=cV), n_jobs=-1)\n",
    "\n",
    "    # Perform the grid search on the training data\n",
    "    print(\"Training...\")\n",
    "    grid_search.fit(X_train, y_train)\n",
    "\n",
    "    # Print the best hyperparameters\n",
    "    best_params = grid_search.best_params_\n",
    "    print(f\"Training done. Best Hyperparameters found for {mode} based on rocauc: {best_params}\")\n",
    "    print(\"#########################################################\")\n",
    "\n",
    "    # Get the best model\n",
    "    best_model = grid_search.best_estimator_\n",
    "\n",
    "    predict(best_model, X_valid, y_valid, X_test, y_test)\n"
   ]
  },
  {
   "cell_type": "code",
   "execution_count": 28,
   "metadata": {},
   "outputs": [
    {
     "name": "stdout",
     "output_type": "stream",
     "text": [
      "Applying sample method: underSample\n",
      "------------------------------------------------\n",
      "X_valid shape: (4113, 3072)\n",
      "y_valid shape: (4113,)\n",
      "X_test shape: (4113, 3072)\n",
      "y_test shape: (4113,)\n",
      "X_train shape: (2464, 3072)\n",
      "y_train shape: (2464,)\n",
      "Sampling done.\n",
      "------------------------------------------------\n",
      "RandomForest model selected...\n",
      "Creating the GSCV with params: {'n_estimators': [100], 'class_weight': ['balanced']} and cv: 5\n",
      "Training...\n",
      "Training done. Best Hyperparameters found for randomForest based on rocauc: {'class_weight': 'balanced', 'n_estimators': 100}\n",
      "#########################################################\n",
      "Evaluating the model with validation dataset:\n",
      "Accuracy on validation: 0.8137612448334549\n"
     ]
    },
    {
     "data": {
      "image/png": "[encoded data removed]",
      "text/plain": [
       "<Figure size 800x600 with 2 Axes>"
      ]
     },
     "metadata": {},
     "output_type": "display_data"
    },
    {
     "name": "stdout",
     "output_type": "stream",
     "text": [
      "classification erport for validation dataset:\n",
      "+---------+-------------+----------+------------+-----------+\n",
      "|   Class |   Precision |   Recall |   F1-score |   Support |\n",
      "+=========+=============+==========+============+===========+\n",
      "|       0 |        0.99 |     0.82 |       0.9  |      4032 |\n",
      "+---------+-------------+----------+------------+-----------+\n",
      "|       1 |        0.07 |     0.68 |       0.13 |        81 |\n",
      "+---------+-------------+----------+------------+-----------+\n",
      "Best rocauc found on validation dataset using the params:\n",
      "0.81236221340388\n",
      "#########################################################\n",
      "Evaluating the model with test dataset:\n",
      "Accuracy on test: 0.8217845854607343\n"
     ]
    },
    {
     "data": {
      "image/png": "[encoded data removed]",
      "text/plain": [
       "<Figure size 800x600 with 2 Axes>"
      ]
     },
     "metadata": {},
     "output_type": "display_data"
    },
    {
     "name": "stdout",
     "output_type": "stream",
     "text": [
      "classification report on test dataset:\n",
      "+---------+-------------+----------+------------+-----------+\n",
      "|   Class |   Precision |   Recall |   F1-score |   Support |\n",
      "+=========+=============+==========+============+===========+\n",
      "|       0 |        0.99 |     0.83 |       0.9  |      3983 |\n",
      "+---------+-------------+----------+------------+-----------+\n",
      "|       1 |        0.11 |     0.62 |       0.18 |       130 |\n",
      "+---------+-------------+----------+------------+-----------+\n",
      "Best rocauc found on test dataset using the params:\n",
      "0.8015846192471852\n"
     ]
    }
   ],
   "source": [
    "param_grid = {\n",
    "    'n_estimators': [100],\n",
    "    'class_weight': ['balanced']\n",
    "}\n",
    "customRandomForest(train_dataset, valid_dataset, test_dataset, 'morgan_fp', 'HIV_active', param_grid, 'randomForest', sample_method=\"underSample\", cV=5)"
   ]
  }
 ],
 "metadata": {
  "colab": {
   "authorship_tag": "ABX9TyO5Rw+qHQoJx+3rdif7lBz4",
   "provenance": []
  },
  "kernelspec": {
   "display_name": "Python 3",
   "name": "python3"
  },
  "language_info": {
   "codemirror_mode": {
    "name": "ipython",
    "version": 3
   },
   "file_extension": ".py",
   "mimetype": "text/x-python",
   "name": "python",
   "nbconvert_exporter": "python",
   "pygments_lexer": "ipython3",
   "version": "3.11.4"
  }
 },
 "nbformat": 4,
 "nbformat_minor": 0
}
