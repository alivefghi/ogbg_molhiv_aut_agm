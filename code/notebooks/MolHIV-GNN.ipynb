{
 "nbformat": 4,
 "nbformat_minor": 0,
 "metadata": {
  "colab": {
   "provenance": [],
   "authorship_tag": "ABX9TyO5Rw+qHQoJx+3rdif7lBz4"
  },
  "kernelspec": {
   "name": "python3",
   "display_name": "Python 3"
  },
  "language_info": {
   "name": "python"
  }
 },
 "cells": [
  {
   "cell_type": "markdown",
   "source": [
    "#OGB - MolHIV"
   ],
   "metadata": {
    "id": "qmna4LA5mD78",
    "pycharm": {
     "name": "#%% md\n"
    }
   }
  },
  {
   "cell_type": "code",
   "source": [
    "!pip install ogb"
   ],
   "metadata": {
    "colab": {
     "base_uri": "https://localhost:8080/"
    },
    "id": "d-tQ9VVOxnsJ",
    "executionInfo": {
     "status": "ok",
     "timestamp": 1702413911702,
     "user_tz": -210,
     "elapsed": 9132,
     "user": {
      "displayName": "Mahsa Saadat",
      "userId": "12107327812096634515"
     }
    },
    "outputId": "43100937-86d8-499e-8056-02d51b0be5b8",
    "pycharm": {
     "name": "#%%\n"
    }
   },
   "execution_count": 4,
   "outputs": [
    {
     "output_type": "stream",
     "name": "stdout",
     "text": [
      "Collecting ogb\n",
      "  Downloading ogb-1.3.6-py3-none-any.whl (78 kB)\n",
      "\u001B[?25l     \u001B[90m━━━━━━━━━━━━━━━━━━━━━━━━━━━━━━━━━━━━━━━━\u001B[0m \u001B[32m0.0/78.8 kB\u001B[0m \u001B[31m?\u001B[0m eta \u001B[36m-:--:--\u001B[0m\r\u001B[2K     \u001B[91m━━━━━━━━━━━━━━━━━━━━\u001B[0m\u001B[91m╸\u001B[0m\u001B[90m━━━━━━━━━━━━━━━━━━━\u001B[0m \u001B[32m41.0/78.8 kB\u001B[0m \u001B[31m1.1 MB/s\u001B[0m eta \u001B[36m0:00:01\u001B[0m\r\u001B[2K     \u001B[90m━━━━━━━━━━━━━━━━━━━━━━━━━━━━━━━━━━━━━━━━\u001B[0m \u001B[32m78.8/78.8 kB\u001B[0m \u001B[31m1.6 MB/s\u001B[0m eta \u001B[36m0:00:00\u001B[0m\n",
      "\u001B[?25hRequirement already satisfied: torch>=1.6.0 in /usr/local/lib/python3.10/dist-packages (from ogb) (2.1.0+cu118)\n",
      "Requirement already satisfied: numpy>=1.16.0 in /usr/local/lib/python3.10/dist-packages (from ogb) (1.23.5)\n",
      "Requirement already satisfied: tqdm>=4.29.0 in /usr/local/lib/python3.10/dist-packages (from ogb) (4.66.1)\n",
      "Requirement already satisfied: scikit-learn>=0.20.0 in /usr/local/lib/python3.10/dist-packages (from ogb) (1.2.2)\n",
      "Requirement already satisfied: pandas>=0.24.0 in /usr/local/lib/python3.10/dist-packages (from ogb) (1.5.3)\n",
      "Requirement already satisfied: six>=1.12.0 in /usr/local/lib/python3.10/dist-packages (from ogb) (1.16.0)\n",
      "Requirement already satisfied: urllib3>=1.24.0 in /usr/local/lib/python3.10/dist-packages (from ogb) (2.0.7)\n",
      "Collecting outdated>=0.2.0 (from ogb)\n",
      "  Downloading outdated-0.2.2-py2.py3-none-any.whl (7.5 kB)\n",
      "Requirement already satisfied: setuptools>=44 in /usr/local/lib/python3.10/dist-packages (from outdated>=0.2.0->ogb) (67.7.2)\n",
      "Collecting littleutils (from outdated>=0.2.0->ogb)\n",
      "  Downloading littleutils-0.2.2.tar.gz (6.6 kB)\n",
      "  Preparing metadata (setup.py) ... \u001B[?25l\u001B[?25hdone\n",
      "Requirement already satisfied: requests in /usr/local/lib/python3.10/dist-packages (from outdated>=0.2.0->ogb) (2.31.0)\n",
      "Requirement already satisfied: python-dateutil>=2.8.1 in /usr/local/lib/python3.10/dist-packages (from pandas>=0.24.0->ogb) (2.8.2)\n",
      "Requirement already satisfied: pytz>=2020.1 in /usr/local/lib/python3.10/dist-packages (from pandas>=0.24.0->ogb) (2023.3.post1)\n",
      "Requirement already satisfied: scipy>=1.3.2 in /usr/local/lib/python3.10/dist-packages (from scikit-learn>=0.20.0->ogb) (1.11.4)\n",
      "Requirement already satisfied: joblib>=1.1.1 in /usr/local/lib/python3.10/dist-packages (from scikit-learn>=0.20.0->ogb) (1.3.2)\n",
      "Requirement already satisfied: threadpoolctl>=2.0.0 in /usr/local/lib/python3.10/dist-packages (from scikit-learn>=0.20.0->ogb) (3.2.0)\n",
      "Requirement already satisfied: filelock in /usr/local/lib/python3.10/dist-packages (from torch>=1.6.0->ogb) (3.13.1)\n",
      "Requirement already satisfied: typing-extensions in /usr/local/lib/python3.10/dist-packages (from torch>=1.6.0->ogb) (4.5.0)\n",
      "Requirement already satisfied: sympy in /usr/local/lib/python3.10/dist-packages (from torch>=1.6.0->ogb) (1.12)\n",
      "Requirement already satisfied: networkx in /usr/local/lib/python3.10/dist-packages (from torch>=1.6.0->ogb) (3.2.1)\n",
      "Requirement already satisfied: jinja2 in /usr/local/lib/python3.10/dist-packages (from torch>=1.6.0->ogb) (3.1.2)\n",
      "Requirement already satisfied: fsspec in /usr/local/lib/python3.10/dist-packages (from torch>=1.6.0->ogb) (2023.6.0)\n",
      "Requirement already satisfied: triton==2.1.0 in /usr/local/lib/python3.10/dist-packages (from torch>=1.6.0->ogb) (2.1.0)\n",
      "Requirement already satisfied: MarkupSafe>=2.0 in /usr/local/lib/python3.10/dist-packages (from jinja2->torch>=1.6.0->ogb) (2.1.3)\n",
      "Requirement already satisfied: charset-normalizer<4,>=2 in /usr/local/lib/python3.10/dist-packages (from requests->outdated>=0.2.0->ogb) (3.3.2)\n",
      "Requirement already satisfied: idna<4,>=2.5 in /usr/local/lib/python3.10/dist-packages (from requests->outdated>=0.2.0->ogb) (3.6)\n",
      "Requirement already satisfied: certifi>=2017.4.17 in /usr/local/lib/python3.10/dist-packages (from requests->outdated>=0.2.0->ogb) (2023.11.17)\n",
      "Requirement already satisfied: mpmath>=0.19 in /usr/local/lib/python3.10/dist-packages (from sympy->torch>=1.6.0->ogb) (1.3.0)\n",
      "Building wheels for collected packages: littleutils\n",
      "  Building wheel for littleutils (setup.py) ... \u001B[?25l\u001B[?25hdone\n",
      "  Created wheel for littleutils: filename=littleutils-0.2.2-py3-none-any.whl size=7026 sha256=bd05fc8c8f57894abfdd5f7b88e0fd287aeda2049902acb5d3b6ed703c7b9a6d\n",
      "  Stored in directory: /root/.cache/pip/wheels/3d/fe/b0/27a9892da57472e538c7452a721a9cf463cc03cf7379889266\n",
      "Successfully built littleutils\n",
      "Installing collected packages: littleutils, outdated, ogb\n",
      "Successfully installed littleutils-0.2.2 ogb-1.3.6 outdated-0.2.2\n"
     ]
    }
   ]
  },
  {
   "cell_type": "code",
   "source": [
    "from ogb.graphproppred import GraphPropPredDataset\n",
    "\n",
    "dataset_name = 'ogbg-molhiv'\n",
    "dataset = GraphPropPredDataset(name=dataset_name)\n",
    "split_idx = dataset.get_idx_split()"
   ],
   "metadata": {
    "id": "bhO2FxiEmEW6",
    "executionInfo": {
     "status": "ok",
     "timestamp": 1702413926672,
     "user_tz": -210,
     "elapsed": 14976,
     "user": {
      "displayName": "Mahsa Saadat",
      "userId": "12107327812096634515"
     }
    },
    "colab": {
     "base_uri": "https://localhost:8080/"
    },
    "outputId": "810c84be-87d3-482e-d2e2-0d53f8e41778",
    "pycharm": {
     "name": "#%%\n"
    }
   },
   "execution_count": 5,
   "outputs": [
    {
     "output_type": "stream",
     "name": "stdout",
     "text": [
      "Downloading http://snap.stanford.edu/ogb/data/graphproppred/csv_mol_download/hiv.zip\n"
     ]
    },
    {
     "output_type": "stream",
     "name": "stderr",
     "text": [
      "Downloaded 0.00 GB: 100%|██████████| 3/3 [00:00<00:00,  5.18it/s]\n"
     ]
    },
    {
     "output_type": "stream",
     "name": "stdout",
     "text": [
      "Extracting dataset/hiv.zip\n",
      "Loading necessary files...\n",
      "This might take a while.\n",
      "Processing graphs...\n"
     ]
    },
    {
     "output_type": "stream",
     "name": "stderr",
     "text": [
      "100%|██████████| 41127/41127 [00:01<00:00, 29166.96it/s]\n"
     ]
    },
    {
     "output_type": "stream",
     "name": "stdout",
     "text": [
      "Saving...\n"
     ]
    }
   ]
  },
  {
   "cell_type": "code",
   "source": [
    "data_list = dataset.graphs"
   ],
   "metadata": {
    "id": "BB7L4Hrvq7zx",
    "executionInfo": {
     "status": "ok",
     "timestamp": 1702413926672,
     "user_tz": -210,
     "elapsed": 18,
     "user": {
      "displayName": "Mahsa Saadat",
      "userId": "12107327812096634515"
     }
    },
    "pycharm": {
     "name": "#%%\n"
    }
   },
   "execution_count": 6,
   "outputs": []
  },
  {
   "cell_type": "code",
   "source": [
    "split_idx"
   ],
   "metadata": {
    "colab": {
     "base_uri": "https://localhost:8080/"
    },
    "id": "fVmrweq6oASq",
    "executionInfo": {
     "status": "ok",
     "timestamp": 1702413926672,
     "user_tz": -210,
     "elapsed": 18,
     "user": {
      "displayName": "Mahsa Saadat",
      "userId": "12107327812096634515"
     }
    },
    "outputId": "e27538b2-1848-45b1-847a-ff20efbef844",
    "pycharm": {
     "name": "#%%\n"
    }
   },
   "execution_count": 7,
   "outputs": [
    {
     "output_type": "execute_result",
     "data": {
      "text/plain": [
       "{'train': array([    3,     4,     5, ..., 41124, 41125, 41126]),\n",
       " 'valid': array([10127, 10129, 10132, ..., 22785, 22786, 22788]),\n",
       " 'test': array([    0,     1,     2, ..., 10122, 10124, 10125])}"
      ]
     },
     "metadata": {},
     "execution_count": 7
    }
   ]
  },
  {
   "cell_type": "code",
   "source": [
    "def split_list_by_indices(data_list, split_indices):\n",
    "    train_idx = split_indices.get('train', [])\n",
    "    valid_idx = split_indices.get('valid', [])\n",
    "    test_idx = split_indices.get('test', [])\n",
    "\n",
    "    train_set = [data_list[i] for i in train_idx]\n",
    "    valid_set = [data_list[i] for i in valid_idx]\n",
    "    test_set = [data_list[i] for i in test_idx]\n",
    "\n",
    "    return train_set, valid_set, test_set\n",
    "\n",
    "train_set, valid_set, test_set = split_list_by_indices(data_list, split_idx)\n",
    "\n",
    "#print(\"Training set:\", train_set)"
   ],
   "metadata": {
    "id": "5YpuoB1Ro6oB",
    "executionInfo": {
     "status": "ok",
     "timestamp": 1702413926673,
     "user_tz": -210,
     "elapsed": 16,
     "user": {
      "displayName": "Mahsa Saadat",
      "userId": "12107327812096634515"
     }
    },
    "pycharm": {
     "name": "#%%\n"
    }
   },
   "execution_count": 8,
   "outputs": []
  },
  {
   "cell_type": "code",
   "source": [
    "print(\"Test set:\", test_set[:3])"
   ],
   "metadata": {
    "colab": {
     "base_uri": "https://localhost:8080/"
    },
    "id": "RHFZxU3MrfMp",
    "executionInfo": {
     "status": "ok",
     "timestamp": 1702413926673,
     "user_tz": -210,
     "elapsed": 16,
     "user": {
      "displayName": "Mahsa Saadat",
      "userId": "12107327812096634515"
     }
    },
    "outputId": "2459f776-ce0d-4f68-a4b4-d910940e8a1b",
    "pycharm": {
     "name": "#%%\n"
    }
   },
   "execution_count": 9,
   "outputs": [
    {
     "output_type": "stream",
     "name": "stdout",
     "text": [
      "Test set: [{'edge_index': array([[ 0,  1,  1,  2,  2,  3,  3,  4,  4,  5,  5,  6,  6,  7,  7,  8,\n",
      "         6,  9,  4, 10, 10, 11, 11, 12, 12, 13, 11, 14, 14, 15, 15, 16,\n",
      "        16, 17, 15, 18,  9,  2, 18,  4],\n",
      "       [ 1,  0,  2,  1,  3,  2,  4,  3,  5,  4,  6,  5,  7,  6,  8,  7,\n",
      "         9,  6, 10,  4, 11, 10, 12, 11, 13, 12, 14, 11, 15, 14, 16, 15,\n",
      "        17, 16, 18, 15,  2,  9,  4, 18]]), 'edge_feat': array([[0, 0, 0],\n",
      "       [0, 0, 0],\n",
      "       [0, 0, 0],\n",
      "       [0, 0, 0],\n",
      "       [1, 0, 0],\n",
      "       [1, 0, 0],\n",
      "       [0, 0, 0],\n",
      "       [0, 0, 0],\n",
      "       [0, 0, 0],\n",
      "       [0, 0, 0],\n",
      "       [1, 0, 0],\n",
      "       [1, 0, 0],\n",
      "       [0, 0, 0],\n",
      "       [0, 0, 0],\n",
      "       [0, 0, 0],\n",
      "       [0, 0, 0],\n",
      "       [0, 0, 0],\n",
      "       [0, 0, 0],\n",
      "       [0, 0, 0],\n",
      "       [0, 0, 0],\n",
      "       [1, 0, 0],\n",
      "       [1, 0, 0],\n",
      "       [0, 0, 0],\n",
      "       [0, 0, 0],\n",
      "       [0, 0, 0],\n",
      "       [0, 0, 0],\n",
      "       [0, 0, 0],\n",
      "       [0, 0, 0],\n",
      "       [0, 0, 0],\n",
      "       [0, 0, 0],\n",
      "       [0, 0, 0],\n",
      "       [0, 0, 0],\n",
      "       [0, 0, 0],\n",
      "       [0, 0, 0],\n",
      "       [1, 0, 0],\n",
      "       [1, 0, 0],\n",
      "       [0, 0, 0],\n",
      "       [0, 0, 0],\n",
      "       [0, 0, 0],\n",
      "       [0, 0, 0]]), 'node_feat': array([[ 5,  0,  4,  5,  3,  0,  2,  0,  0],\n",
      "       [ 5,  0,  4,  5,  2,  0,  2,  0,  0],\n",
      "       [ 5,  0,  3,  5,  0,  0,  1,  0,  1],\n",
      "       [ 7,  0,  2,  6,  0,  0,  1,  0,  1],\n",
      "       [28,  0,  4,  2,  0,  0,  5,  0,  1],\n",
      "       [ 7,  0,  2,  6,  0,  0,  1,  0,  1],\n",
      "       [ 5,  0,  3,  5,  0,  0,  1,  0,  1],\n",
      "       [ 5,  0,  4,  5,  2,  0,  2,  0,  0],\n",
      "       [ 5,  0,  4,  5,  3,  0,  2,  0,  0],\n",
      "       [ 5,  0,  4,  5,  2,  0,  2,  0,  1],\n",
      "       [ 7,  0,  2,  6,  0,  0,  1,  0,  1],\n",
      "       [ 5,  0,  3,  5,  0,  0,  1,  0,  1],\n",
      "       [ 5,  0,  4,  5,  2,  0,  2,  0,  0],\n",
      "       [ 5,  0,  4,  5,  3,  0,  2,  0,  0],\n",
      "       [ 5,  0,  4,  5,  2,  0,  2,  0,  1],\n",
      "       [ 5,  0,  3,  5,  0,  0,  1,  0,  1],\n",
      "       [ 5,  0,  4,  5,  2,  0,  2,  0,  0],\n",
      "       [ 5,  0,  4,  5,  3,  0,  2,  0,  0],\n",
      "       [ 7,  0,  2,  6,  0,  0,  1,  0,  1]]), 'num_nodes': 19}, {'edge_index': array([[ 0,  1,  1,  2,  2,  3,  3,  4,  4,  5,  5,  6,  6,  7,  0,  8,\n",
      "         8,  9,  9, 10, 10, 11, 11, 12, 12, 13, 13, 14, 14, 15, 15, 16,\n",
      "        16, 17, 17, 18, 18, 19, 19, 20, 12, 21, 21, 22, 22, 23, 23, 24,\n",
      "        24, 25, 25, 26, 26, 27, 27, 28, 22, 29, 10, 30, 30, 31, 31, 32,\n",
      "        32, 33, 33, 34, 34, 35, 35, 36, 36, 37, 31, 38,  7,  2, 38,  8,\n",
      "        29, 10, 37, 32, 20, 15, 28, 23],\n",
      "       [ 1,  0,  2,  1,  3,  2,  4,  3,  5,  4,  6,  5,  7,  6,  8,  0,\n",
      "         9,  8, 10,  9, 11, 10, 12, 11, 13, 12, 14, 13, 15, 14, 16, 15,\n",
      "        17, 16, 18, 17, 19, 18, 20, 19, 21, 12, 22, 21, 23, 22, 24, 23,\n",
      "        25, 24, 26, 25, 27, 26, 28, 27, 29, 22, 30, 10, 31, 30, 32, 31,\n",
      "        33, 32, 34, 33, 35, 34, 36, 35, 37, 36, 38, 31,  2,  7,  8, 38,\n",
      "        10, 29, 32, 37, 15, 20, 23, 28]]), 'edge_feat': array([[1, 0, 1],\n",
      "       [1, 0, 1],\n",
      "       [0, 0, 1],\n",
      "       [0, 0, 1],\n",
      "       [3, 0, 1],\n",
      "       [3, 0, 1],\n",
      "       [3, 0, 1],\n",
      "       [3, 0, 1],\n",
      "       [3, 0, 1],\n",
      "       [3, 0, 1],\n",
      "       [3, 0, 1],\n",
      "       [3, 0, 1],\n",
      "       [3, 0, 1],\n",
      "       [3, 0, 1],\n",
      "       [0, 0, 1],\n",
      "       [0, 0, 1],\n",
      "       [1, 0, 1],\n",
      "       [1, 0, 1],\n",
      "       [0, 0, 0],\n",
      "       [0, 0, 0],\n",
      "       [0, 0, 0],\n",
      "       [0, 0, 0],\n",
      "       [1, 0, 1],\n",
      "       [1, 0, 1],\n",
      "       [0, 0, 1],\n",
      "       [0, 0, 1],\n",
      "       [1, 0, 1],\n",
      "       [1, 0, 1],\n",
      "       [0, 0, 1],\n",
      "       [0, 0, 1],\n",
      "       [3, 0, 1],\n",
      "       [3, 0, 1],\n",
      "       [3, 0, 1],\n",
      "       [3, 0, 1],\n",
      "       [3, 0, 1],\n",
      "       [3, 0, 1],\n",
      "       [3, 0, 1],\n",
      "       [3, 0, 1],\n",
      "       [3, 0, 1],\n",
      "       [3, 0, 1],\n",
      "       [0, 0, 0],\n",
      "       [0, 0, 0],\n",
      "       [0, 0, 0],\n",
      "       [0, 0, 0],\n",
      "       [0, 0, 1],\n",
      "       [0, 0, 1],\n",
      "       [3, 0, 1],\n",
      "       [3, 0, 1],\n",
      "       [3, 0, 1],\n",
      "       [3, 0, 1],\n",
      "       [3, 0, 1],\n",
      "       [3, 0, 1],\n",
      "       [3, 0, 1],\n",
      "       [3, 0, 1],\n",
      "       [3, 0, 1],\n",
      "       [3, 0, 1],\n",
      "       [1, 0, 1],\n",
      "       [1, 0, 1],\n",
      "       [0, 0, 0],\n",
      "       [0, 0, 0],\n",
      "       [1, 0, 1],\n",
      "       [1, 0, 1],\n",
      "       [0, 0, 1],\n",
      "       [0, 0, 1],\n",
      "       [3, 0, 1],\n",
      "       [3, 0, 1],\n",
      "       [3, 0, 1],\n",
      "       [3, 0, 1],\n",
      "       [3, 0, 1],\n",
      "       [3, 0, 1],\n",
      "       [3, 0, 1],\n",
      "       [3, 0, 1],\n",
      "       [3, 0, 1],\n",
      "       [3, 0, 1],\n",
      "       [0, 0, 0],\n",
      "       [0, 0, 0],\n",
      "       [3, 0, 1],\n",
      "       [3, 0, 1],\n",
      "       [0, 0, 0],\n",
      "       [0, 0, 0],\n",
      "       [0, 0, 0],\n",
      "       [0, 0, 0],\n",
      "       [3, 0, 1],\n",
      "       [3, 0, 1],\n",
      "       [3, 0, 1],\n",
      "       [3, 0, 1],\n",
      "       [3, 0, 1],\n",
      "       [3, 0, 1]]), 'node_feat': array([[ 5,  0,  3,  5,  1,  0,  1,  0,  0],\n",
      "       [ 5,  0,  3,  5,  1,  0,  1,  0,  0],\n",
      "       [ 5,  0,  3,  5,  0,  0,  1,  1,  1],\n",
      "       [ 5,  0,  3,  5,  1,  0,  1,  1,  1],\n",
      "       [ 5,  0,  3,  5,  1,  0,  1,  1,  1],\n",
      "       [ 5,  0,  3,  5,  1,  0,  1,  1,  1],\n",
      "       [ 5,  0,  3,  5,  1,  0,  1,  1,  1],\n",
      "       [ 5,  0,  3,  5,  1,  0,  1,  1,  1],\n",
      "       [ 5,  0,  3,  5,  0,  0,  1,  0,  1],\n",
      "       [ 7,  0,  2,  6,  0,  0,  1,  0,  1],\n",
      "       [28,  0,  4,  2,  0,  0,  5,  0,  1],\n",
      "       [ 7,  0,  2,  6,  0,  0,  1,  0,  1],\n",
      "       [ 5,  0,  3,  5,  0,  0,  1,  0,  1],\n",
      "       [ 5,  0,  3,  5,  1,  0,  1,  0,  0],\n",
      "       [ 5,  0,  3,  5,  1,  0,  1,  0,  0],\n",
      "       [ 5,  0,  3,  5,  0,  0,  1,  1,  1],\n",
      "       [ 5,  0,  3,  5,  1,  0,  1,  1,  1],\n",
      "       [ 5,  0,  3,  5,  1,  0,  1,  1,  1],\n",
      "       [ 5,  0,  3,  5,  1,  0,  1,  1,  1],\n",
      "       [ 5,  0,  3,  5,  1,  0,  1,  1,  1],\n",
      "       [ 5,  0,  3,  5,  1,  0,  1,  1,  1],\n",
      "       [ 5,  0,  4,  5,  2,  0,  2,  0,  1],\n",
      "       [ 5,  0,  3,  5,  0,  0,  1,  0,  1],\n",
      "       [ 5,  0,  3,  5,  0,  0,  1,  1,  1],\n",
      "       [ 5,  0,  3,  5,  1,  0,  1,  1,  1],\n",
      "       [ 5,  0,  3,  5,  1,  0,  1,  1,  1],\n",
      "       [ 5,  0,  3,  5,  1,  0,  1,  1,  1],\n",
      "       [ 5,  0,  3,  5,  1,  0,  1,  1,  1],\n",
      "       [ 5,  0,  3,  5,  1,  0,  1,  1,  1],\n",
      "       [ 7,  0,  2,  6,  0,  0,  1,  0,  1],\n",
      "       [ 7,  0,  2,  6,  0,  0,  1,  0,  1],\n",
      "       [ 5,  0,  3,  5,  0,  0,  1,  0,  1],\n",
      "       [ 5,  0,  3,  5,  0,  0,  1,  1,  1],\n",
      "       [ 5,  0,  3,  5,  1,  0,  1,  1,  1],\n",
      "       [ 5,  0,  3,  5,  1,  0,  1,  1,  1],\n",
      "       [ 5,  0,  3,  5,  1,  0,  1,  1,  1],\n",
      "       [ 5,  0,  3,  5,  1,  0,  1,  1,  1],\n",
      "       [ 5,  0,  3,  5,  1,  0,  1,  1,  1],\n",
      "       [ 5,  0,  4,  5,  2,  0,  2,  0,  1]]), 'num_nodes': 39}, {'edge_index': array([[ 0,  1,  1,  2,  1,  3,  3,  4,  4,  5,  5,  6,  6,  7,  7,  8,\n",
      "         8,  9,  9, 10, 10, 11, 11, 12, 12, 13, 13, 14, 14, 15, 15, 16,\n",
      "        16, 17, 17, 18, 18, 19, 19, 20, 12,  3, 20, 15,  9,  4, 20, 11],\n",
      "       [ 1,  0,  2,  1,  3,  1,  4,  3,  5,  4,  6,  5,  7,  6,  8,  7,\n",
      "         9,  8, 10,  9, 11, 10, 12, 11, 13, 12, 14, 13, 15, 14, 16, 15,\n",
      "        17, 16, 18, 17, 19, 18, 20, 19,  3, 12, 15, 20,  4,  9, 11, 20]]), 'edge_feat': array([[0, 0, 0],\n",
      "       [0, 0, 0],\n",
      "       [1, 0, 1],\n",
      "       [1, 0, 1],\n",
      "       [0, 0, 1],\n",
      "       [0, 0, 1],\n",
      "       [0, 0, 1],\n",
      "       [0, 0, 1],\n",
      "       [3, 0, 1],\n",
      "       [3, 0, 1],\n",
      "       [3, 0, 1],\n",
      "       [3, 0, 1],\n",
      "       [3, 0, 1],\n",
      "       [3, 0, 1],\n",
      "       [3, 0, 1],\n",
      "       [3, 0, 1],\n",
      "       [3, 0, 1],\n",
      "       [3, 0, 1],\n",
      "       [0, 0, 0],\n",
      "       [0, 0, 0],\n",
      "       [0, 0, 0],\n",
      "       [0, 0, 0],\n",
      "       [3, 0, 1],\n",
      "       [3, 0, 1],\n",
      "       [3, 0, 1],\n",
      "       [3, 0, 1],\n",
      "       [3, 0, 1],\n",
      "       [3, 0, 1],\n",
      "       [3, 0, 1],\n",
      "       [3, 0, 1],\n",
      "       [3, 0, 1],\n",
      "       [3, 0, 1],\n",
      "       [3, 0, 1],\n",
      "       [3, 0, 1],\n",
      "       [3, 0, 1],\n",
      "       [3, 0, 1],\n",
      "       [3, 0, 1],\n",
      "       [3, 0, 1],\n",
      "       [3, 0, 1],\n",
      "       [3, 0, 1],\n",
      "       [0, 0, 1],\n",
      "       [0, 0, 1],\n",
      "       [3, 0, 1],\n",
      "       [3, 0, 1],\n",
      "       [3, 0, 1],\n",
      "       [3, 0, 1],\n",
      "       [3, 0, 1],\n",
      "       [3, 0, 1]]), 'node_feat': array([[ 5,  0,  4,  5,  3,  0,  2,  0,  0],\n",
      "       [ 5,  0,  3,  5,  0,  0,  1,  0,  0],\n",
      "       [ 7,  0,  1,  5,  0,  0,  1,  0,  0],\n",
      "       [ 6,  0,  3,  5,  0,  0,  1,  0,  1],\n",
      "       [ 5,  0,  3,  5,  0,  0,  1,  1,  1],\n",
      "       [ 5,  0,  3,  5,  1,  0,  1,  1,  1],\n",
      "       [ 5,  0,  3,  5,  1,  0,  1,  1,  1],\n",
      "       [ 5,  0,  3,  5,  1,  0,  1,  1,  1],\n",
      "       [ 5,  0,  3,  5,  1,  0,  1,  1,  1],\n",
      "       [ 5,  0,  3,  5,  0,  0,  1,  1,  1],\n",
      "       [15,  0,  2,  5,  0,  0,  2,  0,  1],\n",
      "       [ 5,  0,  3,  5,  0,  0,  1,  1,  1],\n",
      "       [ 5,  0,  3,  5,  0,  0,  1,  1,  1],\n",
      "       [ 5,  0,  3,  5,  1,  0,  1,  1,  1],\n",
      "       [ 5,  0,  3,  5,  1,  0,  1,  1,  1],\n",
      "       [ 5,  0,  3,  5,  0,  0,  1,  1,  1],\n",
      "       [ 5,  0,  3,  5,  1,  0,  1,  1,  1],\n",
      "       [ 5,  0,  3,  5,  1,  0,  1,  1,  1],\n",
      "       [ 5,  0,  3,  5,  1,  0,  1,  1,  1],\n",
      "       [ 5,  0,  3,  5,  1,  0,  1,  1,  1],\n",
      "       [ 5,  0,  3,  5,  0,  0,  1,  1,  1]]), 'num_nodes': 21}]\n"
     ]
    }
   ]
  },
  {
   "cell_type": "markdown",
   "source": [
    "##General Scaffold"
   ],
   "metadata": {
    "id": "2Rw1wpLovwXS",
    "pycharm": {
     "name": "#%% md\n"
    }
   }
  },
  {
   "cell_type": "code",
   "source": [
    "pip install ogb rdkit-pypi"
   ],
   "metadata": {
    "id": "KAO5jXS03gQQ",
    "colab": {
     "base_uri": "https://localhost:8080/"
    },
    "executionInfo": {
     "status": "ok",
     "timestamp": 1702413942519,
     "user_tz": -210,
     "elapsed": 15858,
     "user": {
      "displayName": "Mahsa Saadat",
      "userId": "12107327812096634515"
     }
    },
    "outputId": "95352582-0956-4d70-c905-1a2cba526b69",
    "pycharm": {
     "name": "#%%\n"
    }
   },
   "execution_count": 10,
   "outputs": [
    {
     "output_type": "stream",
     "name": "stdout",
     "text": [
      "Requirement already satisfied: ogb in /usr/local/lib/python3.10/dist-packages (1.3.6)\n",
      "Collecting rdkit-pypi\n",
      "  Downloading rdkit_pypi-2022.9.5-cp310-cp310-manylinux_2_17_x86_64.manylinux2014_x86_64.whl (29.4 MB)\n",
      "\u001B[2K     \u001B[90m━━━━━━━━━━━━━━━━━━━━━━━━━━━━━━━━━━━━━━━━\u001B[0m \u001B[32m29.4/29.4 MB\u001B[0m \u001B[31m14.9 MB/s\u001B[0m eta \u001B[36m0:00:00\u001B[0m\n",
      "\u001B[?25hRequirement already satisfied: torch>=1.6.0 in /usr/local/lib/python3.10/dist-packages (from ogb) (2.1.0+cu118)\n",
      "Requirement already satisfied: numpy>=1.16.0 in /usr/local/lib/python3.10/dist-packages (from ogb) (1.23.5)\n",
      "Requirement already satisfied: tqdm>=4.29.0 in /usr/local/lib/python3.10/dist-packages (from ogb) (4.66.1)\n",
      "Requirement already satisfied: scikit-learn>=0.20.0 in /usr/local/lib/python3.10/dist-packages (from ogb) (1.2.2)\n",
      "Requirement already satisfied: pandas>=0.24.0 in /usr/local/lib/python3.10/dist-packages (from ogb) (1.5.3)\n",
      "Requirement already satisfied: six>=1.12.0 in /usr/local/lib/python3.10/dist-packages (from ogb) (1.16.0)\n",
      "Requirement already satisfied: urllib3>=1.24.0 in /usr/local/lib/python3.10/dist-packages (from ogb) (2.0.7)\n",
      "Requirement already satisfied: outdated>=0.2.0 in /usr/local/lib/python3.10/dist-packages (from ogb) (0.2.2)\n",
      "Requirement already satisfied: Pillow in /usr/local/lib/python3.10/dist-packages (from rdkit-pypi) (9.4.0)\n",
      "Requirement already satisfied: setuptools>=44 in /usr/local/lib/python3.10/dist-packages (from outdated>=0.2.0->ogb) (67.7.2)\n",
      "Requirement already satisfied: littleutils in /usr/local/lib/python3.10/dist-packages (from outdated>=0.2.0->ogb) (0.2.2)\n",
      "Requirement already satisfied: requests in /usr/local/lib/python3.10/dist-packages (from outdated>=0.2.0->ogb) (2.31.0)\n",
      "Requirement already satisfied: python-dateutil>=2.8.1 in /usr/local/lib/python3.10/dist-packages (from pandas>=0.24.0->ogb) (2.8.2)\n",
      "Requirement already satisfied: pytz>=2020.1 in /usr/local/lib/python3.10/dist-packages (from pandas>=0.24.0->ogb) (2023.3.post1)\n",
      "Requirement already satisfied: scipy>=1.3.2 in /usr/local/lib/python3.10/dist-packages (from scikit-learn>=0.20.0->ogb) (1.11.4)\n",
      "Requirement already satisfied: joblib>=1.1.1 in /usr/local/lib/python3.10/dist-packages (from scikit-learn>=0.20.0->ogb) (1.3.2)\n",
      "Requirement already satisfied: threadpoolctl>=2.0.0 in /usr/local/lib/python3.10/dist-packages (from scikit-learn>=0.20.0->ogb) (3.2.0)\n",
      "Requirement already satisfied: filelock in /usr/local/lib/python3.10/dist-packages (from torch>=1.6.0->ogb) (3.13.1)\n",
      "Requirement already satisfied: typing-extensions in /usr/local/lib/python3.10/dist-packages (from torch>=1.6.0->ogb) (4.5.0)\n",
      "Requirement already satisfied: sympy in /usr/local/lib/python3.10/dist-packages (from torch>=1.6.0->ogb) (1.12)\n",
      "Requirement already satisfied: networkx in /usr/local/lib/python3.10/dist-packages (from torch>=1.6.0->ogb) (3.2.1)\n",
      "Requirement already satisfied: jinja2 in /usr/local/lib/python3.10/dist-packages (from torch>=1.6.0->ogb) (3.1.2)\n",
      "Requirement already satisfied: fsspec in /usr/local/lib/python3.10/dist-packages (from torch>=1.6.0->ogb) (2023.6.0)\n",
      "Requirement already satisfied: triton==2.1.0 in /usr/local/lib/python3.10/dist-packages (from torch>=1.6.0->ogb) (2.1.0)\n",
      "Requirement already satisfied: MarkupSafe>=2.0 in /usr/local/lib/python3.10/dist-packages (from jinja2->torch>=1.6.0->ogb) (2.1.3)\n",
      "Requirement already satisfied: charset-normalizer<4,>=2 in /usr/local/lib/python3.10/dist-packages (from requests->outdated>=0.2.0->ogb) (3.3.2)\n",
      "Requirement already satisfied: idna<4,>=2.5 in /usr/local/lib/python3.10/dist-packages (from requests->outdated>=0.2.0->ogb) (3.6)\n",
      "Requirement already satisfied: certifi>=2017.4.17 in /usr/local/lib/python3.10/dist-packages (from requests->outdated>=0.2.0->ogb) (2023.11.17)\n",
      "Requirement already satisfied: mpmath>=0.19 in /usr/local/lib/python3.10/dist-packages (from sympy->torch>=1.6.0->ogb) (1.3.0)\n",
      "Installing collected packages: rdkit-pypi\n",
      "Successfully installed rdkit-pypi-2022.9.5\n"
     ]
    }
   ]
  },
  {
   "cell_type": "code",
   "source": [
    "from rdkit import Chem\n",
    "from rdkit.Chem.Scaffolds import MurckoScaffold\n",
    "\n",
    "\n",
    "smiles = \"c1cc(O)ccc1c2cccNcc2C(=O)CN\"\n",
    "\n",
    "\n",
    "mol = Chem.MolFromSmiles(smiles)\n",
    "scaffold = MurckoScaffold.MurckoScaffoldSmiles(Chem.MolToSmiles(mol)).replace(\"*\", \"\")\n",
    "\n",
    "print(f\"Original SMILES: {smiles}\")\n",
    "print(f\"Murcko Scaffold: {scaffold}\")"
   ],
   "metadata": {
    "colab": {
     "base_uri": "https://localhost:8080/"
    },
    "id": "xGA5qMkTvJrG",
    "executionInfo": {
     "status": "ok",
     "timestamp": 1702414386449,
     "user_tz": -210,
     "elapsed": 406,
     "user": {
      "displayName": "Mahsa Saadat",
      "userId": "12107327812096634515"
     }
    },
    "outputId": "4bcf6a29-071a-48f4-f967-d2d7a2178acf",
    "pycharm": {
     "name": "#%%\n"
    }
   },
   "execution_count": 19,
   "outputs": [
    {
     "output_type": "stream",
     "name": "stdout",
     "text": [
      "Original SMILES: c1cc(O)ccc1c2cccNcc2C(=O)CN\n",
      "Murcko Scaffold: C1=CNC=CC(c2ccccc2)=C1\n"
     ]
    }
   ]
  },
  {
   "cell_type": "code",
   "source": [
    "mol"
   ],
   "metadata": {
    "id": "rJ9XPN0UzkgM",
    "executionInfo": {
     "status": "ok",
     "timestamp": 1702414407163,
     "user_tz": -210,
     "elapsed": 11,
     "user": {
      "displayName": "Mahsa Saadat",
      "userId": "12107327812096634515"
     }
    },
    "outputId": "6a6a1d54-ac56-4b35-ea0e-66016dcab874",
    "colab": {
     "base_uri": "https://localhost:8080/",
     "height": 167
    },
    "pycharm": {
     "name": "#%%\n"
    }
   },
   "execution_count": 20,
   "outputs": [
    {
     "output_type": "execute_result",
     "data": {
      "text/plain": [
       "<rdkit.Chem.rdchem.Mol at 0x7c66013602e0>"
      ],
      "image/png": "[encoded data removed]"
     },
     "metadata": {},
     "execution_count": 20
    }
   ]
  },
  {
   "cell_type": "code",
   "source": [
    "from rdkit import Chem\n",
    "from rdkit.Chem.Scaffolds import MurckoScaffold\n",
    "import random\n",
    "\n",
    "smiles_list = [\n",
    "    \"CC(=O)OC1=CC=CC=C1C(=O)O\",\n",
    "    \"CC(C)(C)C1=CC=CC=C1\",\n",
    "    \"C1=CC=CC=C1\",\n",
    "    \"CCN(CC)C(=O)C1=CC=CC=C1\",\n",
    "    \"CC(C)C1=CC=CC=C1\",\n",
    "    \"c1ccccc1C(=O)OCC\",\n",
    "    \"c1ccccc1C(=O)OCCOc1ccccc1NO\",\n",
    "    \"C(=O)OCCONO\",\n",
    "    \"C(=O)NOc1ccccc1c2ccccc2CC(=O)c2ccccc2\",\n",
    "    \"c1cc(O)ccc1c2cccNcc2C(=O)CN\"\n",
    "]\n",
    "\n",
    "\n",
    "molecules = [Chem.MolFromSmiles(smiles) for smiles in smiles_list]\n",
    "\n",
    "\n",
    "def scaffold_splitting(molecules, frac_train=0.8, frac_valid=0.1, frac_test=0.1, random_seed=40):\n",
    "    random.seed(random_seed)\n",
    "    scaffolds = [MurckoScaffold.GetScaffoldForMol(mol) for mol in molecules]\n",
    "    unique_scaffolds = list(set(scaffolds))\n",
    "    random.shuffle(unique_scaffolds)\n",
    "\n",
    "    num_scaffolds = len(unique_scaffolds)\n",
    "    #print(num_scaffolds)\n",
    "    train_size = int(frac_train * num_scaffolds)\n",
    "    valid_size = int(frac_valid * num_scaffolds)\n",
    "    train_scaffolds, valid_scaffolds, test_scaffolds = (\n",
    "        unique_scaffolds[:train_size],\n",
    "        unique_scaffolds[train_size:train_size + valid_size],\n",
    "        unique_scaffolds[train_size + valid_size:]\n",
    "    )\n",
    "    train_molecules = [mol for mol, scaffold in zip(molecules, scaffolds) if scaffold in train_scaffolds]\n",
    "    valid_molecules = [mol for mol, scaffold in zip(molecules, scaffolds) if scaffold in valid_scaffolds]\n",
    "    test_molecules = [mol for mol, scaffold in zip(molecules, scaffolds) if scaffold in test_scaffolds]\n",
    "\n",
    "    return train_molecules, valid_molecules, test_molecules\n",
    "\n",
    "train_set, valid_set, test_set = scaffold_splitting(molecules)\n",
    "\n",
    "print(\"Train Set:\")\n",
    "for mol in train_set:\n",
    "    print(Chem.MolToSmiles(mol))\n",
    "\n",
    "print(\"\\nValidation Set:\")\n",
    "for mol in valid_set:\n",
    "    print(Chem.MolToSmiles(mol))\n",
    "\n",
    "print(\"\\nTest Set:\")\n",
    "for mol in test_set:\n",
    "    print(Chem.MolToSmiles(mol))\n"
   ],
   "metadata": {
    "colab": {
     "base_uri": "https://localhost:8080/"
    },
    "id": "7c14GjkW3mn5",
    "executionInfo": {
     "status": "ok",
     "timestamp": 1702414322215,
     "user_tz": -210,
     "elapsed": 4,
     "user": {
      "displayName": "Mahsa Saadat",
      "userId": "12107327812096634515"
     }
    },
    "outputId": "f55d3a40-b322-472c-9e64-52ad86933e74",
    "pycharm": {
     "name": "#%%\n"
    }
   },
   "execution_count": 17,
   "outputs": [
    {
     "output_type": "stream",
     "name": "stdout",
     "text": [
      "10\n",
      "Train Set:\n",
      "CC(=O)Oc1ccccc1C(=O)O\n",
      "c1ccccc1\n",
      "CC(C)c1ccccc1\n",
      "CCOC(=O)c1ccccc1\n",
      "O=C(OCCOc1ccccc1NO)c1ccccc1\n",
      "O=COCCONO\n",
      "O=CNOc1ccccc1-c1ccccc1CC(=O)c1ccccc1\n",
      "NCC(=O)C1=CNC=CC=C1c1ccc(O)cc1\n",
      "\n",
      "Validation Set:\n",
      "CCN(CC)C(=O)c1ccccc1\n",
      "\n",
      "Test Set:\n",
      "CC(C)(C)c1ccccc1\n"
     ]
    }
   ]
  },
  {
   "cell_type": "code",
   "source": [],
   "metadata": {
    "id": "2JgnNkCR35ug",
    "pycharm": {
     "name": "#%%\n"
    }
   },
   "execution_count": null,
   "outputs": []
  }
 ]
}